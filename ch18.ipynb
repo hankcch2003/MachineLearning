{
 "cells": [
  {
   "cell_type": "markdown",
   "id": "70021a61",
   "metadata": {},
   "source": [
    "# 1. SARIMAX(0, 1, 3)x(1, 0, [1], 12)\t"
   ]
  },
  {
   "cell_type": "code",
   "execution_count": 1,
   "id": "bb257435",
   "metadata": {},
   "outputs": [],
   "source": [
    "import pandas as pd\n",
    "import numpy as np\n",
    "# Load specific forecasting tools\n",
    "from statsmodels.tsa.statespace.sarimax import SARIMAX\n",
    "from statsmodels.graphics.tsaplots import plot_acf, plot_pacf  # for determining (p,q) orders\n",
    "from statsmodels.tsa.seasonal import seasonal_decompose  # for ETS Plots"
   ]
  },
  {
   "cell_type": "code",
   "execution_count": 2,
   "id": "2530be7b",
   "metadata": {},
   "outputs": [
    {
     "data": {
      "text/html": [
       "<div>\n",
       "<style scoped>\n",
       "    .dataframe tbody tr th:only-of-type {\n",
       "        vertical-align: middle;\n",
       "    }\n",
       "\n",
       "    .dataframe tbody tr th {\n",
       "        vertical-align: top;\n",
       "    }\n",
       "\n",
       "    .dataframe thead th {\n",
       "        text-align: right;\n",
       "    }\n",
       "</style>\n",
       "<table border=\"1\" class=\"dataframe\">\n",
       "  <thead>\n",
       "    <tr style=\"text-align: right;\">\n",
       "      <th></th>\n",
       "      <th>year</th>\n",
       "      <th>month</th>\n",
       "      <th>decimal_date</th>\n",
       "      <th>average</th>\n",
       "      <th>interpolated</th>\n",
       "    </tr>\n",
       "  </thead>\n",
       "  <tbody>\n",
       "    <tr>\n",
       "      <th>0</th>\n",
       "      <td>1958</td>\n",
       "      <td>3</td>\n",
       "      <td>1958.208</td>\n",
       "      <td>315.71</td>\n",
       "      <td>315.71</td>\n",
       "    </tr>\n",
       "    <tr>\n",
       "      <th>1</th>\n",
       "      <td>1958</td>\n",
       "      <td>4</td>\n",
       "      <td>1958.292</td>\n",
       "      <td>317.45</td>\n",
       "      <td>317.45</td>\n",
       "    </tr>\n",
       "    <tr>\n",
       "      <th>2</th>\n",
       "      <td>1958</td>\n",
       "      <td>5</td>\n",
       "      <td>1958.375</td>\n",
       "      <td>317.50</td>\n",
       "      <td>317.50</td>\n",
       "    </tr>\n",
       "    <tr>\n",
       "      <th>3</th>\n",
       "      <td>1958</td>\n",
       "      <td>6</td>\n",
       "      <td>1958.458</td>\n",
       "      <td>NaN</td>\n",
       "      <td>317.10</td>\n",
       "    </tr>\n",
       "    <tr>\n",
       "      <th>4</th>\n",
       "      <td>1958</td>\n",
       "      <td>7</td>\n",
       "      <td>1958.542</td>\n",
       "      <td>315.86</td>\n",
       "      <td>315.86</td>\n",
       "    </tr>\n",
       "  </tbody>\n",
       "</table>\n",
       "</div>"
      ],
      "text/plain": [
       "   year  month  decimal_date  average  interpolated\n",
       "0  1958      3      1958.208   315.71        315.71\n",
       "1  1958      4      1958.292   317.45        317.45\n",
       "2  1958      5      1958.375   317.50        317.50\n",
       "3  1958      6      1958.458      NaN        317.10\n",
       "4  1958      7      1958.542   315.86        315.86"
      ]
     },
     "execution_count": 2,
     "metadata": {},
     "output_type": "execute_result"
    }
   ],
   "source": [
    "df = pd.read_csv(\"co2_mm_mlo.csv\")\n",
    "df.head()"
   ]
  },
  {
   "cell_type": "code",
   "execution_count": 3,
   "id": "482607ab",
   "metadata": {},
   "outputs": [
    {
     "data": {
      "text/html": [
       "<div>\n",
       "<style scoped>\n",
       "    .dataframe tbody tr th:only-of-type {\n",
       "        vertical-align: middle;\n",
       "    }\n",
       "\n",
       "    .dataframe tbody tr th {\n",
       "        vertical-align: top;\n",
       "    }\n",
       "\n",
       "    .dataframe thead th {\n",
       "        text-align: right;\n",
       "    }\n",
       "</style>\n",
       "<table border=\"1\" class=\"dataframe\">\n",
       "  <thead>\n",
       "    <tr style=\"text-align: right;\">\n",
       "      <th></th>\n",
       "      <th>year</th>\n",
       "      <th>month</th>\n",
       "      <th>decimal_date</th>\n",
       "      <th>average</th>\n",
       "      <th>interpolated</th>\n",
       "      <th>date</th>\n",
       "    </tr>\n",
       "  </thead>\n",
       "  <tbody>\n",
       "    <tr>\n",
       "      <th>0</th>\n",
       "      <td>1958</td>\n",
       "      <td>3</td>\n",
       "      <td>1958.208</td>\n",
       "      <td>315.71</td>\n",
       "      <td>315.71</td>\n",
       "      <td>1958-03-01</td>\n",
       "    </tr>\n",
       "    <tr>\n",
       "      <th>1</th>\n",
       "      <td>1958</td>\n",
       "      <td>4</td>\n",
       "      <td>1958.292</td>\n",
       "      <td>317.45</td>\n",
       "      <td>317.45</td>\n",
       "      <td>1958-04-01</td>\n",
       "    </tr>\n",
       "    <tr>\n",
       "      <th>2</th>\n",
       "      <td>1958</td>\n",
       "      <td>5</td>\n",
       "      <td>1958.375</td>\n",
       "      <td>317.50</td>\n",
       "      <td>317.50</td>\n",
       "      <td>1958-05-01</td>\n",
       "    </tr>\n",
       "    <tr>\n",
       "      <th>3</th>\n",
       "      <td>1958</td>\n",
       "      <td>6</td>\n",
       "      <td>1958.458</td>\n",
       "      <td>NaN</td>\n",
       "      <td>317.10</td>\n",
       "      <td>1958-06-01</td>\n",
       "    </tr>\n",
       "    <tr>\n",
       "      <th>4</th>\n",
       "      <td>1958</td>\n",
       "      <td>7</td>\n",
       "      <td>1958.542</td>\n",
       "      <td>315.86</td>\n",
       "      <td>315.86</td>\n",
       "      <td>1958-07-01</td>\n",
       "    </tr>\n",
       "  </tbody>\n",
       "</table>\n",
       "</div>"
      ],
      "text/plain": [
       "   year  month  decimal_date  average  interpolated       date\n",
       "0  1958      3      1958.208   315.71        315.71 1958-03-01\n",
       "1  1958      4      1958.292   317.45        317.45 1958-04-01\n",
       "2  1958      5      1958.375   317.50        317.50 1958-05-01\n",
       "3  1958      6      1958.458      NaN        317.10 1958-06-01\n",
       "4  1958      7      1958.542   315.86        315.86 1958-07-01"
      ]
     },
     "execution_count": 3,
     "metadata": {},
     "output_type": "execute_result"
    }
   ],
   "source": [
    "df[\"date\"] = pd.to_datetime(dict(year = df[\"year\"], month = df[\"month\"], day = 1))\n",
    "df.head()"
   ]
  },
  {
   "cell_type": "code",
   "execution_count": 4,
   "id": "09ee84d3",
   "metadata": {},
   "outputs": [
    {
     "data": {
      "text/html": [
       "<div>\n",
       "<style scoped>\n",
       "    .dataframe tbody tr th:only-of-type {\n",
       "        vertical-align: middle;\n",
       "    }\n",
       "\n",
       "    .dataframe tbody tr th {\n",
       "        vertical-align: top;\n",
       "    }\n",
       "\n",
       "    .dataframe thead th {\n",
       "        text-align: right;\n",
       "    }\n",
       "</style>\n",
       "<table border=\"1\" class=\"dataframe\">\n",
       "  <thead>\n",
       "    <tr style=\"text-align: right;\">\n",
       "      <th></th>\n",
       "      <th>year</th>\n",
       "      <th>month</th>\n",
       "      <th>decimal_date</th>\n",
       "      <th>average</th>\n",
       "      <th>interpolated</th>\n",
       "    </tr>\n",
       "    <tr>\n",
       "      <th>date</th>\n",
       "      <th></th>\n",
       "      <th></th>\n",
       "      <th></th>\n",
       "      <th></th>\n",
       "      <th></th>\n",
       "    </tr>\n",
       "  </thead>\n",
       "  <tbody>\n",
       "    <tr>\n",
       "      <th>1958-03-01</th>\n",
       "      <td>1958</td>\n",
       "      <td>3</td>\n",
       "      <td>1958.208</td>\n",
       "      <td>315.71</td>\n",
       "      <td>315.71</td>\n",
       "    </tr>\n",
       "    <tr>\n",
       "      <th>1958-04-01</th>\n",
       "      <td>1958</td>\n",
       "      <td>4</td>\n",
       "      <td>1958.292</td>\n",
       "      <td>317.45</td>\n",
       "      <td>317.45</td>\n",
       "    </tr>\n",
       "    <tr>\n",
       "      <th>1958-05-01</th>\n",
       "      <td>1958</td>\n",
       "      <td>5</td>\n",
       "      <td>1958.375</td>\n",
       "      <td>317.50</td>\n",
       "      <td>317.50</td>\n",
       "    </tr>\n",
       "    <tr>\n",
       "      <th>1958-06-01</th>\n",
       "      <td>1958</td>\n",
       "      <td>6</td>\n",
       "      <td>1958.458</td>\n",
       "      <td>NaN</td>\n",
       "      <td>317.10</td>\n",
       "    </tr>\n",
       "    <tr>\n",
       "      <th>1958-07-01</th>\n",
       "      <td>1958</td>\n",
       "      <td>7</td>\n",
       "      <td>1958.542</td>\n",
       "      <td>315.86</td>\n",
       "      <td>315.86</td>\n",
       "    </tr>\n",
       "  </tbody>\n",
       "</table>\n",
       "</div>"
      ],
      "text/plain": [
       "            year  month  decimal_date  average  interpolated\n",
       "date                                                        \n",
       "1958-03-01  1958      3      1958.208   315.71        315.71\n",
       "1958-04-01  1958      4      1958.292   317.45        317.45\n",
       "1958-05-01  1958      5      1958.375   317.50        317.50\n",
       "1958-06-01  1958      6      1958.458      NaN        317.10\n",
       "1958-07-01  1958      7      1958.542   315.86        315.86"
      ]
     },
     "execution_count": 4,
     "metadata": {},
     "output_type": "execute_result"
    }
   ],
   "source": [
    "df.set_index(\"date\", inplace = True)\n",
    "df.index.freq = \"MS\"\n",
    "df.head()"
   ]
  },
  {
   "cell_type": "code",
   "execution_count": 5,
   "id": "ef478e19",
   "metadata": {},
   "outputs": [],
   "source": [
    "train = df.iloc[:717]\n",
    "test = df.iloc[717:]"
   ]
  },
  {
   "cell_type": "code",
   "execution_count": 6,
   "id": "be01540d",
   "metadata": {},
   "outputs": [],
   "source": [
    "model = SARIMAX(train[\"interpolated\"], order = (0,1,3), seasonal_order = (1,0,1,12))\n",
    "result = model.fit()"
   ]
  },
  {
   "cell_type": "code",
   "execution_count": 7,
   "id": "ba31114f",
   "metadata": {},
   "outputs": [],
   "source": [
    "start = len(train)\n",
    "end = start + len(test) - 1\n",
    "predictions = result.predict(start = start, end = end, dynamic = False).rename(\"SARIMAX(0,1,3)x(1,0,[1],12)\")"
   ]
  },
  {
   "cell_type": "code",
   "execution_count": 8,
   "id": "d8f6201a",
   "metadata": {},
   "outputs": [
    {
     "name": "stdout",
     "output_type": "stream",
     "text": [
      "predictions:406.6106170802951 test:406.81\n",
      "predictions:407.826523604385 test:407.96\n",
      "predictions:408.5797556723001 test:408.32\n",
      "predictions:409.4849230225446 test:409.41\n",
      "predictions:411.04459507215836 test:410.24\n",
      "predictions:411.64809296060724 test:411.24\n",
      "predictions:410.8665585387746 test:410.79\n",
      "predictions:409.1751691203212 test:408.71\n",
      "predictions:407.0749330060222 test:406.99\n",
      "predictions:405.62520520219965 test:405.51\n",
      "predictions:405.8971618803808 test:406.0\n",
      "predictions:407.4320498992905 test:408.02\n"
     ]
    },
    {
     "name": "stderr",
     "output_type": "stream",
     "text": [
      "C:\\Users\\hankc\\AppData\\Local\\Temp\\ipykernel_3992\\435430180.py:2: FutureWarning: Series.__getitem__ treating keys as positions is deprecated. In a future version, integer keys will always be treated as labels (consistent with DataFrame behavior). To access a value by position, use `ser.iloc[pos]`\n",
      "  print(f'predictions:{predictions[i]} test:{test[\"interpolated\"][i]}')\n"
     ]
    }
   ],
   "source": [
    "for i in range(len(predictions)):\n",
    "    print(f'predictions:{predictions[i]} test:{test[\"interpolated\"][i]}')"
   ]
  },
  {
   "cell_type": "code",
   "execution_count": 9,
   "id": "9c7b1d8f",
   "metadata": {},
   "outputs": [
    {
     "data": {
      "text/plain": [
       "[Text(0.5, 0, ''), Text(0, 0.5, 'parts per million')]"
      ]
     },
     "execution_count": 9,
     "metadata": {},
     "output_type": "execute_result"
    },
    {
     "data": {
      "image/png": "[encoded data removed]",
      "text/plain": [
       "<Figure size 1200x600 with 1 Axes>"
      ]
     },
     "metadata": {},
     "output_type": "display_data"
    }
   ],
   "source": [
    "title = 'Monthly Mean CO₂ Levels (ppm) over Mauna Loa, Hawaii'\n",
    "ylabel = 'parts per million'\n",
    "xlabel = ''\n",
    "ax = test['interpolated'].plot(legend = True, figsize = (12,6), title = title)\n",
    "predictions.plot(legend = True)\n",
    "ax.autoscale(axis='x', tight = True)\n",
    "ax.set(xlabel = xlabel, ylabel = ylabel)"
   ]
  },
  {
   "cell_type": "markdown",
   "id": "bb9c0065",
   "metadata": {},
   "source": [
    "# 2. 梯度下降練習"
   ]
  },
  {
   "cell_type": "code",
   "execution_count": 10,
   "id": "6c72dd53",
   "metadata": {},
   "outputs": [
    {
     "name": "stdout",
     "output_type": "stream",
     "text": [
      "[-5.   -2.   -0.8  -0.32 -0.13 -0.05]\n"
     ]
    },
    {
     "data": {
      "image/png": "[encoded data removed]",
      "text/plain": [
       "<Figure size 640x480 with 1 Axes>"
      ]
     },
     "metadata": {},
     "output_type": "display_data"
    }
   ],
   "source": [
    "import numpy as np\n",
    "import matplotlib.pyplot as plt\n",
    "\n",
    "# 目標函數(損失函數): y = x ^ 2\n",
    "def func(x): return x ** 2\n",
    "\n",
    "# 目標函數的一階導數: dy / dx = 2 * x\n",
    "def dfunc(x): return 2 * x\n",
    "\n",
    "def GD(x_start, df, epochs, lr):    \n",
    "    \"\"\"  梯度下降法。給定起始點與目標函數的一階導函數，求在 epochs 次反覆運算中 x 的更新值\n",
    "        :param x_start: x 的起始點 \n",
    "        :param df: 目標函數的一階導函數\n",
    "        :param epochs: 反覆運算週期\n",
    "        :param lr: 學習率\n",
    "        :return: x 在每次反覆運算後的位置（包括起始點），長度為 epochs + 1\n",
    "     \"\"\"    \n",
    "    xs = np.zeros(epochs + 1)\n",
    "    w = x_start\n",
    "    xs[0] = w\n",
    "    for i in range(epochs):\n",
    "        dx = df(w)        \n",
    "        # 權重的更新 W_new\n",
    "        # W_new = W — learning_rate * gradient       \n",
    "        w += - dx * lr \n",
    "        xs[i + 1] = w\n",
    "    return xs\n",
    "\n",
    "# Main\n",
    "# 起始權重\n",
    "x_start = -5\n",
    "# 執行週期數\n",
    "epochs = 5\n",
    "# 學習率\n",
    "lr = 0.3\n",
    "# 梯度下降法\n",
    "# *** Function 可以直接當參數傳遞 ***\n",
    "w = GD(x_start, dfunc, epochs, lr = lr)\n",
    "print (np.around(w, 2))\n",
    "# 輸出：[-5.     -2.     -0.8    -0.32   -0.128  -0.0512]\n",
    "\n",
    "color = 'r'    \n",
    "from numpy import arange\n",
    "t = arange(-6.0, 6.0, 0.01)\n",
    "plt.plot(t, func(t), c='b')\n",
    "plt.plot(w, func(w), c = color, label='lr={}'.format(lr))\n",
    "plt.scatter(w, func(w), c = color)\n",
    "\n",
    "from matplotlib.font_manager import FontProperties\n",
    "plt.title('Gradient Descent')\n",
    "plt.xlabel('w', fontsize = 20)\n",
    "plt.ylabel('Loss', fontsize = 20)\n",
    "plt.show()"
   ]
  },
  {
   "cell_type": "markdown",
   "id": "e7dd876a",
   "metadata": {},
   "source": [
    "# 3. Tensorflow 練習"
   ]
  },
  {
   "cell_type": "code",
   "execution_count": 11,
   "id": "e5752510",
   "metadata": {},
   "outputs": [
    {
     "name": "stdout",
     "output_type": "stream",
     "text": [
      "(60000, 28, 28) (60000,) (10000, 28, 28) (10000,)\n"
     ]
    }
   ],
   "source": [
    "import tensorflow as tf\n",
    "mnist = tf.keras.datasets.mnist\n",
    "\n",
    "# 載入 MNIST 手寫阿拉伯數字資料\n",
    "(x_train, y_train),(x_test, y_test) = mnist.load_data()\n",
    "\n",
    "# 訓練/測試資料的 X/y 維度\n",
    "print(x_train.shape, y_train.shape, x_test.shape, y_test.shape)"
   ]
  },
  {
   "cell_type": "code",
   "execution_count": 12,
   "id": "1686241f",
   "metadata": {},
   "outputs": [
    {
     "data": {
      "text/plain": [
       "array([5, 0, 4, 1, 9, 2, 1, 3, 1, 4], dtype=uint8)"
      ]
     },
     "execution_count": 12,
     "metadata": {},
     "output_type": "execute_result"
    }
   ],
   "source": [
    "y_train[:10]"
   ]
  },
  {
   "cell_type": "code",
   "execution_count": 13,
   "id": "3b0a92cf",
   "metadata": {},
   "outputs": [
    {
     "data": {
      "text/plain": [
       "['0000000000000000000000000000',\n",
       " '0000000000000000000000000000',\n",
       " '0000000000000000000000000000',\n",
       " '0000000000000000000000000000',\n",
       " '0000000000000000000000000000',\n",
       " '0000000000001111111111110000',\n",
       " '0000000011111111111111110000',\n",
       " '0000000111111111111111100000',\n",
       " '0000000111111111110000000000',\n",
       " '0000000011111110110000000000',\n",
       " '0000000001111100000000000000',\n",
       " '0000000000011110000000000000',\n",
       " '0000000000011110000000000000',\n",
       " '0000000000001111110000000000',\n",
       " '0000000000000111111000000000',\n",
       " '0000000000000011111100000000',\n",
       " '0000000000000001111100000000',\n",
       " '0000000000000000011110000000',\n",
       " '0000000000000011111110000000',\n",
       " '0000000000001111111100000000',\n",
       " '0000000000111111111000000000',\n",
       " '0000000011111111110000000000',\n",
       " '0000001111111111000000000000',\n",
       " '0000111111111100000000000000',\n",
       " '0000111111110000000000000000',\n",
       " '0000000000000000000000000000',\n",
       " '0000000000000000000000000000',\n",
       " '0000000000000000000000000000']"
      ]
     },
     "execution_count": 13,
     "metadata": {},
     "output_type": "execute_result"
    }
   ],
   "source": [
    "# 將非0的數字轉為1，顯示第1張圖片\n",
    "data = x_train[0].copy()\n",
    "data[data > 0] = 1\n",
    "\n",
    "# 將轉換後二維內容顯示出來，隱約可以看出數字為5\n",
    "text_image = []\n",
    "for i in range(data.shape[0]):\n",
    "    text_image.append(''.join(data[i].astype(str)))\n",
    "text_image"
   ]
  },
  {
   "cell_type": "code",
   "execution_count": 14,
   "id": "a7b03683",
   "metadata": {},
   "outputs": [
    {
     "data": {
      "image/png": "[encoded data removed]",
      "text/plain": [
       "<Figure size 640x480 with 1 Axes>"
      ]
     },
     "metadata": {},
     "output_type": "display_data"
    }
   ],
   "source": [
    "# 顯示第1張圖片圖像\n",
    "import matplotlib.pyplot as plt\n",
    "\n",
    "# 第一筆資料\n",
    "X2 = x_train[0,:,:]\n",
    "\n",
    "# 繪製點陣圖，cmap='gray':灰階\n",
    "plt.imshow(X2.reshape(28,28), cmap='gray')\n",
    "\n",
    "# 隱藏刻度\n",
    "plt.axis('off')\n",
    "\n",
    "# 顯示圖形\n",
    "plt.show()"
   ]
  },
  {
   "cell_type": "code",
   "execution_count": 15,
   "id": "abd4b3cd",
   "metadata": {},
   "outputs": [],
   "source": [
    "x_train_norm, x_test_norm = x_train / 255.0, x_test / 255.0"
   ]
  },
  {
   "cell_type": "code",
   "execution_count": 16,
   "id": "eb99d319",
   "metadata": {},
   "outputs": [
    {
     "name": "stderr",
     "output_type": "stream",
     "text": [
      "c:\\Users\\hankc\\anaconda3\\Lib\\site-packages\\keras\\src\\layers\\reshaping\\flatten.py:37: UserWarning: Do not pass an `input_shape`/`input_dim` argument to a layer. When using Sequential models, prefer using an `Input(shape)` object as the first layer in the model instead.\n",
      "  super().__init__(**kwargs)\n"
     ]
    }
   ],
   "source": [
    "# 建立模型\n",
    "model = tf.keras.models.Sequential([\n",
    "  tf.keras.layers.Flatten(input_shape = (28,28)),\n",
    "  tf.keras.layers.Dense(128, activation='relu'),\n",
    "  tf.keras.layers.Dropout(0.2), # 隨機丟棄20$的神經元減少過擬合\n",
    "  tf.keras.layers.Dense(10, activation='softmax')\n",
    "])"
   ]
  },
  {
   "cell_type": "code",
   "execution_count": 17,
   "id": "e824aa2b",
   "metadata": {},
   "outputs": [],
   "source": [
    "model.compile(optimizer='adam', # adam會動態調整學習律\n",
    "              loss='sparse_categorical_crossentropy',\n",
    "              metrics=['accuracy'])"
   ]
  },
  {
   "cell_type": "code",
   "execution_count": 18,
   "id": "f58ca64d",
   "metadata": {},
   "outputs": [
    {
     "name": "stdout",
     "output_type": "stream",
     "text": [
      "Epoch 1/5\n",
      "\u001b[1m1500/1500\u001b[0m \u001b[32m━━━━━━━━━━━━━━━━━━━━\u001b[0m\u001b[37m\u001b[0m \u001b[1m18s\u001b[0m 10ms/step - accuracy: 0.8471 - loss: 0.5215 - val_accuracy: 0.9572 - val_loss: 0.1554\n",
      "Epoch 2/5\n",
      "\u001b[1m1500/1500\u001b[0m \u001b[32m━━━━━━━━━━━━━━━━━━━━\u001b[0m\u001b[37m\u001b[0m \u001b[1m10s\u001b[0m 6ms/step - accuracy: 0.9516 - loss: 0.1635 - val_accuracy: 0.9614 - val_loss: 0.1272\n",
      "Epoch 3/5\n",
      "\u001b[1m1500/1500\u001b[0m \u001b[32m━━━━━━━━━━━━━━━━━━━━\u001b[0m\u001b[37m\u001b[0m \u001b[1m9s\u001b[0m 6ms/step - accuracy: 0.9643 - loss: 0.1226 - val_accuracy: 0.9694 - val_loss: 0.1033\n",
      "Epoch 4/5\n",
      "\u001b[1m1500/1500\u001b[0m \u001b[32m━━━━━━━━━━━━━━━━━━━━\u001b[0m\u001b[37m\u001b[0m \u001b[1m7s\u001b[0m 5ms/step - accuracy: 0.9708 - loss: 0.0986 - val_accuracy: 0.9703 - val_loss: 0.0970\n",
      "Epoch 5/5\n",
      "\u001b[1m1500/1500\u001b[0m \u001b[32m━━━━━━━━━━━━━━━━━━━━\u001b[0m\u001b[37m\u001b[0m \u001b[1m8s\u001b[0m 6ms/step - accuracy: 0.9729 - loss: 0.0837 - val_accuracy: 0.9725 - val_loss: 0.0917\n"
     ]
    }
   ],
   "source": [
    "history = model.fit(x_train_norm, y_train, epochs = 5, validation_split = 0.2)"
   ]
  },
  {
   "cell_type": "code",
   "execution_count": 19,
   "id": "d7d1defd",
   "metadata": {},
   "outputs": [
    {
     "name": "stdout",
     "output_type": "stream",
     "text": [
      "loss: 0.0831\n",
      "compile_metrics: 0.9742\n"
     ]
    }
   ],
   "source": [
    "score = model.evaluate(x_test_norm, y_test, verbose = 0)\n",
    "for i, x in enumerate(score):\n",
    "    print(f'{model.metrics_names[i]}: {score[i]:.4f}')"
   ]
  }
 ],
 "metadata": {
  "kernelspec": {
   "display_name": "base",
   "language": "python",
   "name": "python3"
  },
  "language_info": {
   "codemirror_mode": {
    "name": "ipython",
    "version": 3
   },
   "file_extension": ".py",
   "mimetype": "text/x-python",
   "name": "python",
   "nbconvert_exporter": "python",
   "pygments_lexer": "ipython3",
   "version": "3.12.7"
  }
 },
 "nbformat": 4,
 "nbformat_minor": 5
}
