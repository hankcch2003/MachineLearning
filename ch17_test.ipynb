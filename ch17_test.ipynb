{
 "cells": [
  {
   "cell_type": "code",
   "execution_count": null,
   "metadata": {},
   "outputs": [
    {
     "data": {
      "application/vnd.jupyter.widget-view+json": {
       "model_id": "0e11f3fe8cd84dada5b09e06f47497e0",
       "version_major": 2,
       "version_minor": 0
      },
      "text/plain": [
       "HTML(value='<h3>銷售預測應用</h3>')"
      ]
     },
     "metadata": {},
     "output_type": "display_data"
    },
    {
     "data": {
      "application/vnd.jupyter.widget-view+json": {
       "model_id": "d1715496eb8f40cdb1a88cbaac5cd841",
       "version_major": 2,
       "version_minor": 0
      },
      "text/plain": [
       "FloatText(value=0.0, description='TV：', step=0.1)"
      ]
     },
     "metadata": {},
     "output_type": "display_data"
    },
    {
     "data": {
      "application/vnd.jupyter.widget-view+json": {
       "model_id": "3e65acb87c7c482abe117a74de75cd82",
       "version_major": 2,
       "version_minor": 0
      },
      "text/plain": [
       "FloatText(value=0.0, description='Radio：', step=0.1)"
      ]
     },
     "metadata": {},
     "output_type": "display_data"
    },
    {
     "data": {
      "application/vnd.jupyter.widget-view+json": {
       "model_id": "11e0cf85f2b8404d9b1d8d83f1c1fee8",
       "version_major": 2,
       "version_minor": 0
      },
      "text/plain": [
       "FloatText(value=0.0, description='Newspaper：', step=0.1)"
      ]
     },
     "metadata": {},
     "output_type": "display_data"
    },
    {
     "data": {
      "application/vnd.jupyter.widget-view+json": {
       "model_id": "65fa41abccd5406288453d1c62136822",
       "version_major": 2,
       "version_minor": 0
      },
      "text/plain": [
       "Button(button_style='success', description='預測銷售', style=ButtonStyle())"
      ]
     },
     "metadata": {},
     "output_type": "display_data"
    },
    {
     "data": {
      "application/vnd.jupyter.widget-view+json": {
       "model_id": "a332b1d66edb4df29e6b72be7bdd9796",
       "version_major": 2,
       "version_minor": 0
      },
      "text/plain": [
       "Output()"
      ]
     },
     "metadata": {},
     "output_type": "display_data"
    }
   ],
   "source": [
    "import pandas as pd\n",
    "import joblib\n",
    "import ipywidgets as widgets\n",
    "from IPython.display import display, clear_output\n",
    "\n",
    "# 載入模型與 scaler\n",
    "model, scaler = joblib.load(\"./scaled_sales_model.pkl\")\n",
    "\n",
    "# 建立輸入元件\n",
    "tv_input = widgets.FloatText(value = 0.0, description='TV：', step = 0.1)\n",
    "radio_input = widgets.FloatText(value = 0.0, description='Radio：', step = 0.1)\n",
    "newspaper_input = widgets.FloatText(value = 0.0, description='Newspaper：', step = 0.1)\n",
    "predict_button = widgets.Button(description='預測銷售', button_style='success')\n",
    "output = widgets.Output()\n",
    "\n",
    "# 預測邏輯\n",
    "def on_predict_clicked(b):\n",
    "    output.clear_output()\n",
    "    with output:\n",
    "        input_data = {\"TV\": tv_input.value, \"radio\": radio_input.value, \"newspaper\": newspaper_input.value}\n",
    "        input_df = pd.DataFrame([input_data])\n",
    "        input_scaled = scaler.transform(input_df)\n",
    "        prediction = model.predict(input_scaled)\n",
    "        print(\"預測的銷售額為：\", prediction[0])\n",
    "\n",
    "# 綁定事件\n",
    "predict_button.on_click(on_predict_clicked)\n",
    "\n",
    "# 顯示元件\n",
    "display(widgets.HTML(value=\"<h3>銷售預測應用</h3>\"))\n",
    "display(tv_input, radio_input, newspaper_input, predict_button, output)"
   ]
  }
 ],
 "metadata": {
  "kernelspec": {
   "display_name": "base",
   "language": "python",
   "name": "python3"
  },
  "language_info": {
   "codemirror_mode": {
    "name": "ipython",
    "version": 3
   },
   "file_extension": ".py",
   "mimetype": "text/x-python",
   "name": "python",
   "nbconvert_exporter": "python",
   "pygments_lexer": "ipython3",
   "version": "3.12.7"
  }
 },
 "nbformat": 4,
 "nbformat_minor": 2
}
