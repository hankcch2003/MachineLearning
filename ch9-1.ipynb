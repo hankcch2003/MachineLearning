{
 "cells": [
  {
   "cell_type": "code",
   "execution_count": null,
   "metadata": {},
   "outputs": [
    {
     "data": {
      "application/vnd.jupyter.widget-view+json": {
       "model_id": "d28ade4e91974e3d96d034955415411b",
       "version_major": 2,
       "version_minor": 0
      },
      "text/plain": [
       "SelectMultiple(description='水果：', options=('蘋果', '香蕉', '橘子', '西瓜'), value=())"
      ]
     },
     "metadata": {},
     "output_type": "display_data"
    },
    {
     "name": "stdout",
     "output_type": "stream",
     "text": [
      "你選擇的水果是： ['西瓜']\n",
      "你選擇的水果是： ['蘋果']\n",
      "你選擇的水果是： ['橘子']\n",
      "你選擇的水果是： ['香蕉']\n"
     ]
    }
   ],
   "source": [
    "import pandas as pd\n",
    "from datetime import datetime\n",
    "import ipywidgets as widgets\n",
    "from IPython.display import display\n",
    "\n",
    "def listToDict(dataList):\n",
    "    return {dataList[i]: i for i in range(len(dataList))}\n",
    "\n",
    "# 多選清單：水果\n",
    "fruit_options = [\"蘋果\", \"香蕉\", \"橘子\", \"西瓜\"]\n",
    "fruit_multiselect = widgets.SelectMultiple(options = fruit_options, description='水果：', value = [])\n",
    "\n",
    "def on_fruit_change(change):\n",
    "    if change['name'] == 'value':\n",
    "        print(\"你選擇的水果是：\", list(change['new']))\n",
    "\n",
    "display(fruit_multiselect)\n",
    "fruit_multiselect.observe(on_fruit_change, names='value')"
   ]
  },
  {
   "cell_type": "code",
   "execution_count": null,
   "metadata": {},
   "outputs": [
    {
     "data": {
      "application/vnd.jupyter.widget-view+json": {
       "model_id": "492d360835274d0ca7fa8a7f722a7cdf",
       "version_major": 2,
       "version_minor": 0
      },
      "text/plain": [
       "RadioButtons(description='季節：', options=('春季', '夏季', '秋季', '冬季'), value='春季')"
      ]
     },
     "metadata": {},
     "output_type": "display_data"
    },
    {
     "name": "stdout",
     "output_type": "stream",
     "text": [
      "你選擇的季節是： 1 夏季\n",
      "你選擇的季節是： 3 冬季\n",
      "你選擇的季節是： 2 秋季\n",
      "你選擇的季節是： 0 春季\n"
     ]
    }
   ],
   "source": [
    "# 單選按鈕：季節\n",
    "seasons = [\"春季\", \"夏季\", \"秋季\", \"冬季\"]\n",
    "season_dict = listToDict(seasons)\n",
    "season_radio = widgets.RadioButtons(options = seasons, description='季節：')\n",
    "\n",
    "def on_season_change(change):\n",
    "    if change['name'] == 'value':\n",
    "        selected = change['new']\n",
    "        print(\"你選擇的季節是：\", season_dict[selected], selected)\n",
    "\n",
    "display(season_radio)\n",
    "season_radio.observe(on_season_change, names='value')"
   ]
  },
  {
   "cell_type": "code",
   "execution_count": 3,
   "metadata": {},
   "outputs": [
    {
     "data": {
      "application/vnd.jupyter.widget-view+json": {
       "model_id": "6e0e9705bafc4648be68fcb06a9be117",
       "version_major": 2,
       "version_minor": 0
      },
      "text/plain": [
       "Checkbox(value=False, description='是否同意條款')"
      ]
     },
     "metadata": {},
     "output_type": "display_data"
    },
    {
     "name": "stdout",
     "output_type": "stream",
     "text": [
      "你同意條款\n",
      "你不同意條款\n",
      "你同意條款\n",
      "你不同意條款\n",
      "你同意條款\n"
     ]
    }
   ],
   "source": [
    "# 核取方塊：同意條款\n",
    "agree_checkbox = widgets.Checkbox(value = False, description='是否同意條款')\n",
    "\n",
    "def on_checkbox_change(change):\n",
    "    if change['name'] == 'value':\n",
    "        print(\"你\" + (\"同意\" if change['new'] else \"不同意\") + \"條款\")\n",
    "\n",
    "display(agree_checkbox)\n",
    "agree_checkbox.observe(on_checkbox_change, names='value')"
   ]
  },
  {
   "cell_type": "code",
   "execution_count": 4,
   "metadata": {},
   "outputs": [
    {
     "data": {
      "application/vnd.jupyter.widget-view+json": {
       "model_id": "f7f5dc4e68784fa1a802150553d2e657",
       "version_major": 2,
       "version_minor": 0
      },
      "text/plain": [
       "IntRangeSlider(value=(3, 6), description='範圍：', max=10, min=1)"
      ]
     },
     "metadata": {},
     "output_type": "display_data"
    },
    {
     "name": "stdout",
     "output_type": "stream",
     "text": [
      "你選擇的範圍是： (2, 6)\n",
      "你選擇的範圍是： (2, 7)\n",
      "你選擇的範圍是： (2, 8)\n",
      "你選擇的範圍是： (3, 8)\n",
      "你選擇的範圍是： (4, 8)\n",
      "你選擇的範圍是： (5, 8)\n",
      "你選擇的範圍是： (5, 9)\n",
      "你選擇的範圍是： (5, 8)\n",
      "你選擇的範圍是： (5, 7)\n",
      "你選擇的範圍是： (4, 7)\n",
      "你選擇的範圍是： (3, 7)\n",
      "你選擇的範圍是： (2, 7)\n",
      "你選擇的範圍是： (3, 7)\n",
      "你選擇的範圍是： (4, 7)\n",
      "你選擇的範圍是： (4, 8)\n",
      "你選擇的範圍是： (4, 9)\n",
      "你選擇的範圍是： (4, 10)\n",
      "你選擇的範圍是： (3, 10)\n",
      "你選擇的範圍是： (2, 10)\n",
      "你選擇的範圍是： (2, 9)\n",
      "你選擇的範圍是： (2, 8)\n",
      "你選擇的範圍是： (2, 7)\n",
      "你選擇的範圍是： (1, 7)\n",
      "你選擇的範圍是： (1, 8)\n",
      "你選擇的範圍是： (1, 7)\n",
      "你選擇的範圍是： (1, 6)\n",
      "你選擇的範圍是： (1, 5)\n",
      "你選擇的範圍是： (1, 4)\n",
      "你選擇的範圍是： (1, 5)\n",
      "你選擇的範圍是： (1, 6)\n",
      "你選擇的範圍是： (1, 7)\n"
     ]
    }
   ],
   "source": [
    "# 範圍選擇器：1~10\n",
    "range_slider = widgets.IntRangeSlider(value = [3, 6], min = 1, max = 10, step = 1, description='範圍：')\n",
    "\n",
    "def on_range_slider_change(change):\n",
    "    if change['name'] == 'value':\n",
    "        print(\"你選擇的範圍是：\", change['new'])\n",
    "\n",
    "display(range_slider)\n",
    "range_slider.observe(on_range_slider_change, names='value')"
   ]
  },
  {
   "cell_type": "code",
   "execution_count": 5,
   "metadata": {},
   "outputs": [
    {
     "data": {
      "application/vnd.jupyter.widget-view+json": {
       "model_id": "c6941f2e0c954c038832ef0162f02f90",
       "version_major": 2,
       "version_minor": 0
      },
      "text/plain": [
       "DatePicker(value=datetime.date(2025, 7, 11), description='選日期', step=1)"
      ]
     },
     "metadata": {},
     "output_type": "display_data"
    },
    {
     "name": "stdout",
     "output_type": "stream",
     "text": [
      "你選了： 2025-07-17\n",
      "你選了： 2025-10-16\n",
      "你選了： 2024-11-27\n",
      "你選了： 2024-11-09\n",
      "你選了： 2024-03-12\n"
     ]
    }
   ],
   "source": [
    "# 日期選擇器\n",
    "date_picker = widgets.DatePicker(description='選日期', value = datetime.today().date())\n",
    "\n",
    "def on_date_change(change):\n",
    "    if change['name'] == 'value':\n",
    "        print(\"你選了：\", change['new'])\n",
    "\n",
    "display(date_picker)\n",
    "date_picker.observe(on_date_change, names='value')"
   ]
  },
  {
   "cell_type": "code",
   "execution_count": null,
   "metadata": {},
   "outputs": [
    {
     "data": {
      "application/vnd.jupyter.widget-view+json": {
       "model_id": "8138d5fbf07e47f89eb957a75bb6e2f1",
       "version_major": 2,
       "version_minor": 0
      },
      "text/plain": [
       "FloatRangeSlider(value=(25.567, 75.212), description='範圍1：', step=0.01)"
      ]
     },
     "metadata": {},
     "output_type": "display_data"
    },
    {
     "name": "stdout",
     "output_type": "stream",
     "text": [
      "你選的範圍： (25.57, 75.21000000000001)\n",
      "你選的範圍： (24.76, 75.21000000000001)\n",
      "你選的範圍： (19.12, 75.21000000000001)\n",
      "你選的範圍： (18.31, 75.21000000000001)\n",
      "你選的範圍： (17.51, 75.21000000000001)\n",
      "你選的範圍： (16.7, 75.21000000000001)\n",
      "你選的範圍： (15.89, 75.21000000000001)\n",
      "你選的範圍： (15.09, 75.21000000000001)\n",
      "你選的範圍： (15.09, 76.02)\n",
      "你選的範圍： (15.09, 85.69)\n",
      "你選的範圍： (15.09, 92.95)\n",
      "你選的範圍： (15.09, 93.76)\n",
      "你選的範圍： (15.09, 94.56)\n",
      "你選的範圍： (15.09, 95.37)\n",
      "你選的範圍： (15.09, 94.56)\n",
      "你選的範圍： (15.9, 94.56)\n",
      "你選的範圍： (32.83, 94.56)\n",
      "你選的範圍： (40.9, 94.56)\n",
      "你選的範圍： (42.51, 94.56)\n",
      "你選的範圍： (44.12, 94.56)\n",
      "你選的範圍： (44.93, 94.56)\n",
      "你選的範圍： (44.93, 92.95)\n",
      "你選的範圍： (44.93, 83.27)\n",
      "你選的範圍： (44.93, 72.79)\n",
      "你選的範圍： (44.93, 70.37)\n",
      "你選的範圍： (44.93, 68.75)\n",
      "你選的範圍： (44.93, 67.95)\n",
      "你選的範圍： (44.12, 67.95)\n",
      "你選的範圍： (31.220000000000006, 67.95)\n",
      "你選的範圍： (28.8, 67.95)\n",
      "你選的範圍： (25.58, 67.95)\n",
      "你選的範圍： (22.35, 67.95)\n",
      "你選的範圍： (19.12, 67.95)\n",
      "你選的範圍： (18.32, 67.95)\n",
      "你選的範圍： (17.51, 67.95)\n",
      "你選的範圍： (14.28, 67.95)\n",
      "你選的範圍： (14.28, 68.76)\n",
      "你選的範圍： (14.28, 78.43)\n",
      "你選的範圍： (14.28, 80.85000000000001)\n",
      "你選的範圍： (14.28, 81.66)\n",
      "你選的範圍： (14.28, 80.85000000000001)\n",
      "你選的範圍： (14.28, 79.24)\n",
      "你選的範圍： (14.28, 71.18)\n",
      "你選的範圍： (14.28, 69.56)\n"
     ]
    }
   ],
   "source": [
    "# 浮點範圍選擇器（基本）\n",
    "float_slider1 = widgets.FloatRangeSlider(value = [25.567, 75.212], min = 0.0, max = 100.0, step = 0.01, description='範圍1：')\n",
    "\n",
    "def on_float_slider1_change(change):\n",
    "    if change['name'] == 'value':\n",
    "        print(\"你選的範圍：\", change['new'])\n",
    "\n",
    "display(float_slider1)\n",
    "float_slider1.observe(on_float_slider1_change, names='value')"
   ]
  },
  {
   "cell_type": "code",
   "execution_count": 7,
   "metadata": {},
   "outputs": [
    {
     "data": {
      "application/vnd.jupyter.widget-view+json": {
       "model_id": "aef25a6aa6324725b16eaee7bae2436a",
       "version_major": 2,
       "version_minor": 0
      },
      "text/plain": [
       "FloatRangeSlider(value=(25.567, 75.212), description='範圍2：', readout_format='.4f', step=0.0001)"
      ]
     },
     "metadata": {},
     "output_type": "display_data"
    },
    {
     "name": "stdout",
     "output_type": "stream",
     "text": [
      "你選的範圍： (25.566999999999997, 75.212)\n",
      "你選的範圍： (24.7005, 75.212)\n",
      "你選的範圍： (22.9675, 75.212)\n",
      "你選的範圍： (12.5694, 75.212)\n",
      "你選的範圍： (9.9699, 75.212)\n",
      "你選的範圍： (9.1034, 75.212)\n",
      "你選的範圍： (9.9699, 75.212)\n",
      "你選的範圍： (11.702900000000001, 75.212)\n",
      "你選的範圍： (17.7685, 75.212)\n",
      "你選的範圍： (25.566999999999997, 75.212)\n",
      "你選的範圍： (29.033, 75.212)\n",
      "你選的範圍： (31.6325, 75.212)\n",
      "你選的範圍： (30.766000000000005, 75.212)\n",
      "你選的範圍： (29.8995, 75.212)\n",
      "你選的範圍： (27.3, 75.212)\n",
      "你選的範圍： (22.9675, 75.212)\n",
      "你選的範圍： (21.234500000000004, 75.212)\n",
      "你選的範圍： (20.368000000000002, 75.212)\n",
      "你選的範圍： (19.5015, 75.212)\n",
      "你選的範圍： (18.635, 75.212)\n",
      "你選的範圍： (17.7685, 75.212)\n",
      "你選的範圍： (16.902, 75.212)\n",
      "你選的範圍： (16.902, 74.3455)\n",
      "你選的範圍： (16.902, 61.3479)\n",
      "你選的範圍： (16.902, 52.6829)\n",
      "你選的範圍： (16.902, 46.6174)\n",
      "你選的範圍： (16.902, 38.8188)\n",
      "你選的範圍： (16.902, 39.685300000000005)\n",
      "你選的範圍： (16.902, 40.5518)\n",
      "你選的範圍： (16.902, 50.9499)\n",
      "你選的範圍： (16.902, 59.614900000000006)\n",
      "你選的範圍： (16.902, 63.0809)\n",
      "你選的範圍： (16.902, 66.547)\n",
      "你選的範圍： (16.902, 70.013)\n",
      "你選的範圍： (16.902, 74.3455)\n",
      "你選的範圍： (16.902, 79.5445)\n",
      "你選的範圍： (16.902, 80.411)\n",
      "你選的範圍： (16.902, 79.5445)\n",
      "你選的範圍： (16.902, 77.81150000000001)\n",
      "你選的範圍： (16.902, 73.479)\n",
      "你選的範圍： (16.902, 63.947399999999995)\n",
      "你選的範圍： (16.902, 59.614900000000006)\n",
      "你選的範圍： (16.902, 57.8819)\n",
      "你選的範圍： (16.902, 59.614900000000006)\n",
      "你選的範圍： (16.902, 73.479)\n",
      "你選的範圍： (16.902, 76.0785)\n",
      "你選的範圍： (16.902, 76.94500000000001)\n",
      "你選的範圍： (16.902, 78.678)\n",
      "你選的範圍： (16.902, 79.5445)\n",
      "你選的範圍： (16.902, 80.411)\n",
      "你選的範圍： (16.902, 81.2775)\n"
     ]
    }
   ],
   "source": [
    "# 浮點範圍選擇器（進階小數點）\n",
    "float_slider2 = widgets.FloatRangeSlider(value = [25.5670, 75.2120], min = 0.0, max = 100.0, step = 0.0001, description='範圍2：', readout_format='.4f')\n",
    "\n",
    "def on_float_slider2_change(change):\n",
    "    if change['name'] == 'value':\n",
    "        print(\"你選的範圍：\", change['new'])\n",
    "\n",
    "display(float_slider2)\n",
    "float_slider2.observe(on_float_slider2_change, names='value')"
   ]
  }
 ],
 "metadata": {
  "kernelspec": {
   "display_name": "base",
   "language": "python",
   "name": "python3"
  },
  "language_info": {
   "codemirror_mode": {
    "name": "ipython",
    "version": 3
   },
   "file_extension": ".py",
   "mimetype": "text/x-python",
   "name": "python",
   "nbconvert_exporter": "python",
   "pygments_lexer": "ipython3",
   "version": "3.12.7"
  }
 },
 "nbformat": 4,
 "nbformat_minor": 2
}
