{
 "cells": [
  {
   "cell_type": "code",
   "execution_count": null,
   "metadata": {},
   "outputs": [
    {
     "data": {
      "application/vnd.jupyter.widget-view+json": {
       "model_id": "50ad6cf8b98c450a9b8f35df4e8ffcaa",
       "version_major": 2,
       "version_minor": 0
      },
      "text/plain": [
       "SelectMultiple(description='水果：', options=('蘋果', '香蕉', '橘子', '西瓜'), value=())"
      ]
     },
     "metadata": {},
     "output_type": "display_data"
    },
    {
     "name": "stdout",
     "output_type": "stream",
     "text": [
      "你選擇的水果是： ['西瓜']\n",
      "你選擇的水果是： ['蘋果']\n",
      "你選擇的水果是： ['香蕉']\n",
      "你選擇的水果是： ['橘子']\n"
     ]
    }
   ],
   "source": [
    "import pandas as pd\n",
    "from datetime import datetime\n",
    "import ipywidgets as widgets\n",
    "from IPython.display import display\n",
    "\n",
    "def listToDict(dataList):\n",
    "    return {dataList[i]: i for i in range(len(dataList))}\n",
    "\n",
    "# 多選清單：水果\n",
    "fruit_options = [\"蘋果\", \"香蕉\", \"橘子\", \"西瓜\"]\n",
    "fruit_multiselect = widgets.SelectMultiple(options = fruit_options, description='水果：', value = [])\n",
    "\n",
    "def on_fruit_change(change):\n",
    "    if change['name'] == 'value':\n",
    "        print(\"你選擇的水果是：\", list(change['new']))\n",
    "\n",
    "display(fruit_multiselect)\n",
    "fruit_multiselect.observe(on_fruit_change, names='value')"
   ]
  },
  {
   "cell_type": "code",
   "execution_count": null,
   "metadata": {},
   "outputs": [
    {
     "data": {
      "application/vnd.jupyter.widget-view+json": {
       "model_id": "bca7ac5fa61c4d96a9b3886e79fbd2aa",
       "version_major": 2,
       "version_minor": 0
      },
      "text/plain": [
       "RadioButtons(description='季節：', options=('春季', '夏季', '秋季', '冬季'), value='春季')"
      ]
     },
     "metadata": {},
     "output_type": "display_data"
    },
    {
     "name": "stdout",
     "output_type": "stream",
     "text": [
      "你選擇的季節是： 3 冬季\n",
      "你選擇的季節是： 0 春季\n",
      "你選擇的季節是： 2 秋季\n",
      "你選擇的季節是： 1 夏季\n"
     ]
    }
   ],
   "source": [
    "# 單選按鈕：季節\n",
    "seasons = [\"春季\", \"夏季\", \"秋季\", \"冬季\"]\n",
    "season_dict = listToDict(seasons)\n",
    "season_radio = widgets.RadioButtons(options = seasons, description='季節：')\n",
    "\n",
    "def on_season_change(change):\n",
    "    if change['name'] == 'value':\n",
    "        selected = change['new']\n",
    "        print(\"你選擇的季節是：\", season_dict[selected], selected)\n",
    "\n",
    "display(season_radio)\n",
    "season_radio.observe(on_season_change, names='value')"
   ]
  },
  {
   "cell_type": "code",
   "execution_count": 3,
   "metadata": {},
   "outputs": [
    {
     "data": {
      "application/vnd.jupyter.widget-view+json": {
       "model_id": "d97b9c0ed24d446c9f673e1cc5bf4644",
       "version_major": 2,
       "version_minor": 0
      },
      "text/plain": [
       "Checkbox(value=False, description='是否同意條款')"
      ]
     },
     "metadata": {},
     "output_type": "display_data"
    },
    {
     "name": "stdout",
     "output_type": "stream",
     "text": [
      "你同意條款\n",
      "你不同意條款\n",
      "你同意條款\n",
      "你不同意條款\n",
      "你同意條款\n"
     ]
    }
   ],
   "source": [
    "# 核取方塊：同意條款\n",
    "agree_checkbox = widgets.Checkbox(value = False, description='是否同意條款')\n",
    "\n",
    "def on_checkbox_change(change):\n",
    "    if change['name'] == 'value':\n",
    "        print(\"你\" + (\"同意\" if change['new'] else \"不同意\") + \"條款\")\n",
    "\n",
    "display(agree_checkbox)\n",
    "agree_checkbox.observe(on_checkbox_change, names='value')"
   ]
  },
  {
   "cell_type": "code",
   "execution_count": null,
   "metadata": {},
   "outputs": [
    {
     "data": {
      "application/vnd.jupyter.widget-view+json": {
       "model_id": "52d9ce0f9c234faa891d29faf4060f9d",
       "version_major": 2,
       "version_minor": 0
      },
      "text/plain": [
       "IntRangeSlider(value=(3, 6), description='範圍：', max=10, min=1)"
      ]
     },
     "metadata": {},
     "output_type": "display_data"
    },
    {
     "name": "stdout",
     "output_type": "stream",
     "text": [
      "你選擇的範圍是： (2, 6)\n",
      "你選擇的範圍是： (2, 7)\n",
      "你選擇的範圍是： (2, 8)\n",
      "你選擇的範圍是： (2, 9)\n",
      "你選擇的範圍是： (3, 9)\n",
      "你選擇的範圍是： (4, 9)\n",
      "你選擇的範圍是： (5, 9)\n",
      "你選擇的範圍是： (4, 9)\n",
      "你選擇的範圍是： (3, 9)\n",
      "你選擇的範圍是： (2, 9)\n",
      "你選擇的範圍是： (2, 10)\n",
      "你選擇的範圍是： (2, 9)\n",
      "你選擇的範圍是： (2, 8)\n",
      "你選擇的範圍是： (2, 7)\n",
      "你選擇的範圍是： (2, 6)\n",
      "你選擇的範圍是： (2, 5)\n",
      "你選擇的範圍是： (2, 3)\n",
      "你選擇的範圍是： (1, 3)\n",
      "你選擇的範圍是： (2, 4)\n",
      "你選擇的範圍是： (3, 5)\n",
      "你選擇的範圍是： (4, 6)\n",
      "你選擇的範圍是： (5, 7)\n",
      "你選擇的範圍是： (6, 8)\n",
      "你選擇的範圍是： (5, 7)\n",
      "你選擇的範圍是： (4, 6)\n",
      "你選擇的範圍是： (1, 3)\n",
      "你選擇的範圍是： (2, 4)\n",
      "你選擇的範圍是： (3, 5)\n",
      "你選擇的範圍是： (4, 6)\n",
      "你選擇的範圍是： (5, 7)\n"
     ]
    }
   ],
   "source": [
    "# 範圍選擇器：1~10\n",
    "range_slider = widgets.IntRangeSlider(value = [3, 6], min = 1, max = 10, step = 1, description='範圍：')\n",
    "\n",
    "def on_range_slider_change(change):\n",
    "    if change['name'] == 'value':\n",
    "        print(\"你選擇的範圍是：\", change['new'])\n",
    "\n",
    "display(range_slider)\n",
    "range_slider.observe(on_range_slider_change, names='value')"
   ]
  },
  {
   "cell_type": "code",
   "execution_count": 5,
   "metadata": {},
   "outputs": [
    {
     "data": {
      "application/vnd.jupyter.widget-view+json": {
       "model_id": "b80d7acc1474437aaf6884f67ec895a1",
       "version_major": 2,
       "version_minor": 0
      },
      "text/plain": [
       "DatePicker(value=datetime.date(2025, 7, 11), description='選日期', step=1)"
      ]
     },
     "metadata": {},
     "output_type": "display_data"
    },
    {
     "name": "stdout",
     "output_type": "stream",
     "text": [
      "你選了： 2025-07-17\n",
      "你選了： 2025-06-30\n",
      "你選了： 2024-11-20\n",
      "你選了： 2024-06-25\n",
      "你選了： 2024-03-18\n"
     ]
    }
   ],
   "source": [
    "# 日期選擇器\n",
    "date_picker = widgets.DatePicker(description='選日期', value = datetime.today().date())\n",
    "\n",
    "def on_date_change(change):\n",
    "    if change['name'] == 'value':\n",
    "        print(\"你選了：\", change['new'])\n",
    "\n",
    "display(date_picker)\n",
    "date_picker.observe(on_date_change, names='value')"
   ]
  },
  {
   "cell_type": "code",
   "execution_count": 6,
   "metadata": {},
   "outputs": [
    {
     "data": {
      "application/vnd.jupyter.widget-view+json": {
       "model_id": "c4a00e512f284e68a641cdabbfd35fa3",
       "version_major": 2,
       "version_minor": 0
      },
      "text/plain": [
       "FloatRangeSlider(value=(25.567, 75.212), description='範圍1：', step=0.01)"
      ]
     },
     "metadata": {},
     "output_type": "display_data"
    },
    {
     "name": "stdout",
     "output_type": "stream",
     "text": [
      "你選的範圍： (25.57, 75.21000000000001)\n",
      "你選的範圍： (25.57, 76.02)\n",
      "你選的範圍： (25.57, 88.11)\n",
      "你選的範圍： (25.57, 88.92)\n",
      "你選的範圍： (25.57, 88.11)\n",
      "你選的範圍： (25.57, 87.31)\n",
      "你選的範圍： (25.57, 84.08)\n",
      "你選的範圍： (25.57, 71.98)\n",
      "你選的範圍： (25.57, 71.18)\n",
      "你選的範圍： (25.57, 70.37)\n",
      "你選的範圍： (23.96, 70.37)\n",
      "你選的範圍： (11.86, 70.37)\n",
      "你選的範圍： (0.0, 70.37)\n",
      "你選的範圍： (1.38, 70.37)\n",
      "你選的範圍： (53.8, 70.37)\n",
      "你選的範圍： (58.63, 70.37)\n",
      "你選的範圍： (70.37, 70.37)\n",
      "你選的範圍： (69.56, 70.37)\n",
      "你選的範圍： (58.27, 70.37)\n",
      "你選的範圍： (41.34, 70.37)\n",
      "你選的範圍： (35.69, 70.37)\n",
      "你選的範圍： (34.08, 70.37)\n",
      "你選的範圍： (21.18, 70.37)\n",
      "你選的範圍： (16.34, 70.37)\n",
      "你選的範圍： (17.14, 70.37)\n",
      "你選的範圍： (18.76, 70.37)\n",
      "你選的範圍： (18.76, 68.76)\n",
      "你選的範圍： (18.76, 49.4)\n",
      "你選的範圍： (18.76, 35.69)\n",
      "你選的範圍： (18.76, 34.89)\n",
      "你選的範圍： (18.76, 29.24)\n",
      "你選的範圍： (18.76, 28.43)\n",
      "你選的範圍： (18.76, 26.82)\n",
      "你選的範圍： (18.76, 26.02)\n",
      "你選的範圍： (19.57, 26.02)\n",
      "你選的範圍： (26.02, 26.02)\n",
      "你選的範圍： (26.02, 26.83)\n",
      "你選的範圍： (26.02, 39.730000000000004)\n",
      "你選的範圍： (26.02, 46.18)\n",
      "你選的範圍： (26.02, 51.02)\n",
      "你選的範圍： (26.02, 57.47)\n",
      "你選的範圍： (26.02, 58.28)\n",
      "你選的範圍： (26.02, 78.44)\n"
     ]
    }
   ],
   "source": [
    "# 浮點範圍選擇器（基本）\n",
    "float_slider1 = widgets.FloatRangeSlider(value = [25.567, 75.212], min = 0.0, max = 100.0, step = 0.01, description='範圍1：')\n",
    "\n",
    "def on_float_slider1_change(change):\n",
    "    if change['name'] == 'value':\n",
    "        print(\"你選的範圍：\", change['new'])\n",
    "\n",
    "display(float_slider1)\n",
    "float_slider1.observe(on_float_slider1_change, names='value')"
   ]
  },
  {
   "cell_type": "code",
   "execution_count": null,
   "metadata": {},
   "outputs": [
    {
     "data": {
      "application/vnd.jupyter.widget-view+json": {
       "model_id": "1e7e61484918474aa94ae15101ce5147",
       "version_major": 2,
       "version_minor": 0
      },
      "text/plain": [
       "FloatRangeSlider(value=(25.567, 75.212), description='範圍2：', readout_format='.4f', step=0.0001)"
      ]
     },
     "metadata": {},
     "output_type": "display_data"
    },
    {
     "name": "stdout",
     "output_type": "stream",
     "text": [
      "你選的範圍： (25.566999999999997, 75.212)\n",
      "你選的範圍： (27.3, 75.212)\n",
      "你選的範圍： (37.698100000000004, 75.212)\n",
      "你選的範圍： (53.295100000000005, 75.212)\n",
      "你選的範圍： (60.2272, 75.212)\n",
      "你選的範圍： (58.4942, 75.212)\n",
      "你選的範圍： (49.82910000000001, 75.212)\n",
      "你選的範圍： (41.164100000000005, 75.212)\n",
      "你選的範圍： (33.365500000000004, 75.212)\n",
      "你選的範圍： (23.834, 75.212)\n",
      "你選的範圍： (22.9675, 75.212)\n",
      "你選的範圍： (22.101000000000003, 75.212)\n",
      "你選的範圍： (14.3024, 75.212)\n",
      "你選的範圍： (13.435899999999998, 75.212)\n",
      "你選的範圍： (12.5694, 75.212)\n",
      "你選的範圍： (11.702900000000001, 75.212)\n",
      "你選的範圍： (11.702900000000001, 76.94500000000001)\n",
      "你選的範圍： (11.702900000000001, 84.7435)\n",
      "你選的範圍： (11.702900000000001, 100.0)\n",
      "你選的範圍： (11.702900000000001, 99.47409999999999)\n",
      "你選的範圍： (11.702900000000001, 93.4086)\n",
      "你選的範圍： (11.702900000000001, 75.212)\n",
      "你選的範圍： (11.702900000000001, 76.0785)\n",
      "你選的範圍： (11.702900000000001, 80.411)\n",
      "你選的範圍： (11.702900000000001, 84.7435)\n",
      "你選的範圍： (11.702900000000001, 83.87700000000001)\n",
      "你選的範圍： (11.702900000000001, 79.5445)\n",
      "你選的範圍： (11.702900000000001, 62.214400000000005)\n",
      "你選的範圍： (11.702900000000001, 55.28240000000001)\n",
      "你選的範圍： (11.702900000000001, 44.017799999999994)\n",
      "你選的範圍： (11.702900000000001, 42.284800000000004)\n",
      "你選的範圍： (11.702900000000001, 43.1513)\n",
      "你選的範圍： (11.702900000000001, 62.214400000000005)\n",
      "你選的範圍： (11.702900000000001, 67.41340000000001)\n",
      "你選的範圍： (11.702900000000001, 69.1464)\n",
      "你選的範圍： (11.702900000000001, 70.0129)\n",
      "你選的範圍： (11.702900000000001, 70.8794)\n",
      "你選的範圍： (11.702900000000001, 83.87700000000001)\n",
      "你選的範圍： (11.702900000000001, 84.7435)\n",
      "你選的範圍： (11.702900000000001, 85.61)\n",
      "你選的範圍： (11.702900000000001, 86.4765)\n"
     ]
    }
   ],
   "source": [
    "# 浮點範圍選擇器（進階小數點）\n",
    "float_slider2 = widgets.FloatRangeSlider(value = [25.5670, 75.2120], min = 0.0, max = 100.0, step = 0.0001, description='範圍2：', readout_format='.4f')\n",
    "\n",
    "def on_float_slider2_change(change):\n",
    "    if change['name'] == 'value':\n",
    "        print(\"你選的範圍：\", change['new'])\n",
    "\n",
    "display(float_slider2)\n",
    "float_slider2.observe(on_float_slider2_change, names='value')"
   ]
  }
 ],
 "metadata": {
  "kernelspec": {
   "display_name": "base",
   "language": "python",
   "name": "python3"
  },
  "language_info": {
   "codemirror_mode": {
    "name": "ipython",
    "version": 3
   },
   "file_extension": ".py",
   "mimetype": "text/x-python",
   "name": "python",
   "nbconvert_exporter": "python",
   "pygments_lexer": "ipython3",
   "version": "3.12.7"
  }
 },
 "nbformat": 4,
 "nbformat_minor": 2
}
