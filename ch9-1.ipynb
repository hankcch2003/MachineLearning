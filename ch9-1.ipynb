{
 "cells": [
  {
   "cell_type": "code",
   "execution_count": null,
   "metadata": {},
   "outputs": [
    {
     "data": {
      "application/vnd.jupyter.widget-view+json": {
       "model_id": "d192cd767c484d34b95163d5c7938a90",
       "version_major": 2,
       "version_minor": 0
      },
      "text/plain": [
       "SelectMultiple(description='水果：', options=('蘋果', '香蕉', '橘子', '西瓜'), value=())"
      ]
     },
     "metadata": {},
     "output_type": "display_data"
    },
    {
     "name": "stdout",
     "output_type": "stream",
     "text": [
      "你選擇的水果是： ['西瓜']\n",
      "你選擇的水果是： ['蘋果']\n",
      "你選擇的水果是： ['橘子']\n",
      "你選擇的水果是： ['香蕉']\n"
     ]
    }
   ],
   "source": [
    "import pandas as pd\n",
    "from datetime import datetime\n",
    "import ipywidgets as widgets\n",
    "from IPython.display import display\n",
    "\n",
    "def listToDict(dataList):\n",
    "    return {dataList[i]: i for i in range(len(dataList))}\n",
    "\n",
    "# 多選清單：水果\n",
    "fruit_options = [\"蘋果\", \"香蕉\", \"橘子\", \"西瓜\"]\n",
    "fruit_multiselect = widgets.SelectMultiple(options = fruit_options, description='水果：', value = [])\n",
    "\n",
    "def on_fruit_change(change):\n",
    "    if change['name'] == 'value':\n",
    "        print(\"你選擇的水果是：\", list(change['new']))\n",
    "\n",
    "display(fruit_multiselect)\n",
    "fruit_multiselect.observe(on_fruit_change, names='value')"
   ]
  },
  {
   "cell_type": "code",
   "execution_count": null,
   "metadata": {},
   "outputs": [
    {
     "data": {
      "application/vnd.jupyter.widget-view+json": {
       "model_id": "5865060324254fed97446ca2890065fe",
       "version_major": 2,
       "version_minor": 0
      },
      "text/plain": [
       "RadioButtons(description='季節：', options=('春季', '夏季', '秋季', '冬季'), value='春季')"
      ]
     },
     "metadata": {},
     "output_type": "display_data"
    },
    {
     "name": "stdout",
     "output_type": "stream",
     "text": [
      "你選擇的季節是： 3 冬季\n",
      "你選擇的季節是： 1 夏季\n",
      "你選擇的季節是： 2 秋季\n",
      "你選擇的季節是： 0 春季\n"
     ]
    }
   ],
   "source": [
    "# 單選按鈕：季節\n",
    "seasons = [\"春季\", \"夏季\", \"秋季\", \"冬季\"]\n",
    "season_dict = listToDict(seasons)\n",
    "season_radio = widgets.RadioButtons(options = seasons, description='季節：')\n",
    "\n",
    "def on_season_change(change):\n",
    "    if change['name'] == 'value':\n",
    "        selected = change['new']\n",
    "        print(\"你選擇的季節是：\", season_dict[selected], selected)\n",
    "\n",
    "display(season_radio)\n",
    "season_radio.observe(on_season_change, names='value')"
   ]
  },
  {
   "cell_type": "code",
   "execution_count": 3,
   "metadata": {},
   "outputs": [
    {
     "data": {
      "application/vnd.jupyter.widget-view+json": {
       "model_id": "e3ca131b8cb046a69b8e8d1cf88b60ff",
       "version_major": 2,
       "version_minor": 0
      },
      "text/plain": [
       "Checkbox(value=False, description='是否同意條款')"
      ]
     },
     "metadata": {},
     "output_type": "display_data"
    },
    {
     "name": "stdout",
     "output_type": "stream",
     "text": [
      "你同意條款\n",
      "你不同意條款\n",
      "你同意條款\n",
      "你不同意條款\n",
      "你同意條款\n"
     ]
    }
   ],
   "source": [
    "# 核取方塊：同意條款\n",
    "agree_checkbox = widgets.Checkbox(value = False, description='是否同意條款')\n",
    "\n",
    "def on_checkbox_change(change):\n",
    "    if change['name'] == 'value':\n",
    "        print(\"你\" + (\"同意\" if change['new'] else \"不同意\") + \"條款\")\n",
    "\n",
    "display(agree_checkbox)\n",
    "agree_checkbox.observe(on_checkbox_change, names='value')"
   ]
  },
  {
   "cell_type": "code",
   "execution_count": 4,
   "metadata": {},
   "outputs": [
    {
     "data": {
      "application/vnd.jupyter.widget-view+json": {
       "model_id": "772b7cd4f3574777b3f50759c0ef3b8b",
       "version_major": 2,
       "version_minor": 0
      },
      "text/plain": [
       "IntRangeSlider(value=(3, 6), description='範圍：', max=10, min=1)"
      ]
     },
     "metadata": {},
     "output_type": "display_data"
    },
    {
     "name": "stdout",
     "output_type": "stream",
     "text": [
      "你選擇的範圍是： (2, 6)\n",
      "你選擇的範圍是： (2, 7)\n",
      "你選擇的範圍是： (2, 8)\n",
      "你選擇的範圍是： (2, 9)\n",
      "你選擇的範圍是： (2, 10)\n",
      "你選擇的範圍是： (2, 9)\n",
      "你選擇的範圍是： (3, 9)\n",
      "你選擇的範圍是： (4, 9)\n",
      "你選擇的範圍是： (5, 9)\n",
      "你選擇的範圍是： (4, 9)\n",
      "你選擇的範圍是： (3, 9)\n",
      "你選擇的範圍是： (4, 9)\n",
      "你選擇的範圍是： (5, 9)\n",
      "你選擇的範圍是： (5, 8)\n",
      "你選擇的範圍是： (5, 7)\n",
      "你選擇的範圍是： (4, 7)\n",
      "你選擇的範圍是： (3, 7)\n",
      "你選擇的範圍是： (2, 7)\n",
      "你選擇的範圍是： (1, 7)\n",
      "你選擇的範圍是： (2, 7)\n",
      "你選擇的範圍是： (3, 7)\n"
     ]
    }
   ],
   "source": [
    "# 範圍選擇器：1~10\n",
    "range_slider = widgets.IntRangeSlider(value = [3, 6], min = 1, max = 10, step = 1, description='範圍：')\n",
    "\n",
    "def on_range_slider_change(change):\n",
    "    if change['name'] == 'value':\n",
    "        print(\"你選擇的範圍是：\", change['new'])\n",
    "\n",
    "display(range_slider)\n",
    "range_slider.observe(on_range_slider_change, names='value')"
   ]
  },
  {
   "cell_type": "code",
   "execution_count": 5,
   "metadata": {},
   "outputs": [
    {
     "data": {
      "application/vnd.jupyter.widget-view+json": {
       "model_id": "bcc735b24ff64226a26c03458e527059",
       "version_major": 2,
       "version_minor": 0
      },
      "text/plain": [
       "DatePicker(value=datetime.date(2025, 7, 11), description='選日期', step=1)"
      ]
     },
     "metadata": {},
     "output_type": "display_data"
    },
    {
     "name": "stdout",
     "output_type": "stream",
     "text": [
      "你選了： 2025-07-02\n",
      "你選了： 2025-07-30\n",
      "你選了： 2024-12-25\n",
      "你選了： 2024-10-02\n",
      "你選了： 2024-05-15\n"
     ]
    }
   ],
   "source": [
    "# 日期選擇器\n",
    "date_picker = widgets.DatePicker(description='選日期', value = datetime.today().date())\n",
    "\n",
    "def on_date_change(change):\n",
    "    if change['name'] == 'value':\n",
    "        print(\"你選了：\", change['new'])\n",
    "\n",
    "display(date_picker)\n",
    "date_picker.observe(on_date_change, names='value')"
   ]
  },
  {
   "cell_type": "code",
   "execution_count": null,
   "metadata": {},
   "outputs": [
    {
     "data": {
      "application/vnd.jupyter.widget-view+json": {
       "model_id": "47382f1a8db44b8885a0db2db4a83620",
       "version_major": 2,
       "version_minor": 0
      },
      "text/plain": [
       "FloatRangeSlider(value=(25.567, 75.212), description='範圍1：', step=0.01)"
      ]
     },
     "metadata": {},
     "output_type": "display_data"
    },
    {
     "name": "stdout",
     "output_type": "stream",
     "text": [
      "你選的範圍： (25.57, 75.21000000000001)\n",
      "你選的範圍： (23.96, 75.21000000000001)\n",
      "你選的範圍： (17.51, 75.21000000000001)\n",
      "你選的範圍： (15.09, 75.21000000000001)\n",
      "你選的範圍： (14.28, 75.21000000000001)\n",
      "你選的範圍： (13.47, 75.21000000000001)\n",
      "你選的範圍： (14.28, 75.21000000000001)\n",
      "你選的範圍： (14.28, 76.02)\n",
      "你選的範圍： (14.28, 80.86)\n",
      "你選的範圍： (14.28, 83.27)\n",
      "你選的範圍： (14.28, 84.08)\n",
      "你選的範圍： (14.28, 90.53)\n",
      "你選的範圍： (14.28, 92.15)\n",
      "你選的範圍： (13.47, 92.15)\n",
      "你選的範圍： (12.67, 92.15)\n",
      "你選的範圍： (8.63, 92.15)\n",
      "你選的範圍： (7.83, 92.15)\n",
      "你選的範圍： (8.63, 92.15)\n",
      "你選的範圍： (11.05, 92.15)\n",
      "你選的範圍： (11.86, 92.15)\n",
      "你選的範圍： (12.67, 92.15)\n",
      "你選的範圍： (16.7, 92.15)\n",
      "你選的範圍： (18.31, 92.15)\n",
      "你選的範圍： (19.12, 92.15)\n",
      "你選的範圍： (19.12, 91.34)\n",
      "你選的範圍： (19.12, 89.73)\n",
      "你選的範圍： (19.12, 84.89)\n",
      "你選的範圍： (19.12, 84.09)\n",
      "你選的範圍： (19.12, 83.28)\n",
      "你選的範圍： (19.12, 81.67)\n",
      "你選的範圍： (19.12, 80.05)\n",
      "你選的範圍： (19.12, 78.44)\n",
      "你選的範圍： (19.12, 77.63)\n",
      "你選的範圍： (19.12, 76.83)\n",
      "你選的範圍： (19.12, 76.02)\n",
      "你選的範圍： (19.12, 75.21000000000001)\n",
      "你選的範圍： (19.12, 74.41)\n",
      "你選的範圍： (19.12, 75.21000000000001)\n",
      "你選的範圍： (19.12, 76.02)\n",
      "你選的範圍： (19.12, 82.47)\n",
      "你選的範圍： (19.12, 83.28)\n",
      "你選的範圍： (19.12, 84.89)\n"
     ]
    }
   ],
   "source": [
    "# 浮點範圍選擇器（基本）\n",
    "float_slider1 = widgets.FloatRangeSlider(value = [25.567, 75.212], min = 0.0, max = 100.0, step = 0.01, description='範圍1：')\n",
    "\n",
    "def on_float_slider1_change(change):\n",
    "    if change['name'] == 'value':\n",
    "        print(\"你選的範圍：\", change['new'])\n",
    "\n",
    "display(float_slider1)\n",
    "float_slider1.observe(on_float_slider1_change, names='value')"
   ]
  },
  {
   "cell_type": "code",
   "execution_count": 7,
   "metadata": {},
   "outputs": [
    {
     "data": {
      "application/vnd.jupyter.widget-view+json": {
       "model_id": "528033e76e9f41b3a447f6ce5743b264",
       "version_major": 2,
       "version_minor": 0
      },
      "text/plain": [
       "FloatRangeSlider(value=(25.567, 75.212), description='範圍2：', readout_format='.4f', step=0.0001)"
      ]
     },
     "metadata": {},
     "output_type": "display_data"
    },
    {
     "name": "stdout",
     "output_type": "stream",
     "text": [
      "你選的範圍： (25.566999999999997, 75.212)\n",
      "你選的範圍： (24.7005, 75.212)\n",
      "你選的範圍： (23.834, 75.212)\n",
      "你選的範圍： (22.9675, 75.212)\n",
      "你選的範圍： (20.368000000000002, 75.212)\n",
      "你選的範圍： (19.5015, 75.212)\n",
      "你選的範圍： (19.5015, 76.0785)\n",
      "你選的範圍： (19.5015, 80.411)\n",
      "你選的範圍： (19.5015, 81.2775)\n",
      "你選的範圍： (19.5015, 82.14400000000002)\n",
      "你選的範圍： (19.5015, 83.01050000000001)\n",
      "你選的範圍： (19.5015, 83.87700000000001)\n",
      "你選的範圍： (19.5015, 84.7435)\n",
      "你選的範圍： (19.5015, 85.61)\n",
      "你選的範圍： (19.5015, 86.4765)\n",
      "你選的範圍： (19.5015, 87.34300000000002)\n",
      "你選的範圍： (18.635, 87.34300000000002)\n",
      "你選的範圍： (12.5695, 87.34300000000002)\n",
      "你選的範圍： (11.703000000000001, 87.34300000000002)\n",
      "你選的範圍： (10.836500000000001, 87.34300000000002)\n",
      "你選的範圍： (11.703000000000001, 87.34300000000002)\n",
      "你選的範圍： (12.5695, 87.34300000000002)\n",
      "你選的範圍： (13.436, 87.34300000000002)\n",
      "你選的範圍： (14.3025, 87.34300000000002)\n",
      "你選的範圍： (14.3025, 88.2095)\n",
      "你選的範圍： (14.3025, 89.94250000000002)\n",
      "你選的範圍： (14.3025, 93.4085)\n",
      "你選的範圍： (14.3025, 94.275)\n",
      "你選的範圍： (14.3025, 95.14150000000001)\n",
      "你選的範圍： (14.3025, 96.00800000000001)\n",
      "你選的範圍： (14.3025, 96.87449999999998)\n",
      "你選的範圍： (14.3025, 97.7411)\n",
      "你選的範圍： (14.3025, 95.14150000000001)\n",
      "你選的範圍： (14.3025, 81.2775)\n",
      "你選的範圍： (14.3025, 75.2119)\n",
      "你選的範圍： (15.169, 75.2119)\n",
      "你選的範圍： (22.101000000000003, 75.2119)\n",
      "你選的範圍： (25.5671, 75.2119)\n",
      "你選的範圍： (28.166600000000003, 75.2119)\n",
      "你選的範圍： (29.899600000000007, 75.2119)\n",
      "你選的範圍： (30.7661, 75.2119)\n",
      "你選的範圍： (32.4991, 75.2119)\n",
      "你選的範圍： (33.3656, 75.2119)\n"
     ]
    }
   ],
   "source": [
    "# 浮點範圍選擇器（進階小數點）\n",
    "float_slider2 = widgets.FloatRangeSlider(value = [25.5670, 75.2120], min = 0.0, max = 100.0, step = 0.0001, description='範圍2：', readout_format='.4f')\n",
    "\n",
    "def on_float_slider2_change(change):\n",
    "    if change['name'] == 'value':\n",
    "        print(\"你選的範圍：\", change['new'])\n",
    "\n",
    "display(float_slider2)\n",
    "float_slider2.observe(on_float_slider2_change, names='value')"
   ]
  }
 ],
 "metadata": {
  "kernelspec": {
   "display_name": "base",
   "language": "python",
   "name": "python3"
  },
  "language_info": {
   "codemirror_mode": {
    "name": "ipython",
    "version": 3
   },
   "file_extension": ".py",
   "mimetype": "text/x-python",
   "name": "python",
   "nbconvert_exporter": "python",
   "pygments_lexer": "ipython3",
   "version": "3.12.7"
  }
 },
 "nbformat": 4,
 "nbformat_minor": 2
}
