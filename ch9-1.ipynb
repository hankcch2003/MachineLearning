{
 "cells": [
  {
   "cell_type": "code",
   "execution_count": null,
   "metadata": {},
   "outputs": [
    {
     "data": {
      "application/vnd.jupyter.widget-view+json": {
       "model_id": "2cb82b6235aa4131a8f9833105e5fb01",
       "version_major": 2,
       "version_minor": 0
      },
      "text/plain": [
       "SelectMultiple(description='水果：', options=('蘋果', '香蕉', '橘子', '西瓜'), value=())"
      ]
     },
     "metadata": {},
     "output_type": "display_data"
    },
    {
     "name": "stdout",
     "output_type": "stream",
     "text": [
      "你選擇的水果是： ['蘋果']\n",
      "你選擇的水果是： ['西瓜']\n",
      "你選擇的水果是： ['香蕉']\n",
      "你選擇的水果是： ['橘子']\n"
     ]
    }
   ],
   "source": [
    "import pandas as pd\n",
    "from datetime import datetime\n",
    "import ipywidgets as widgets\n",
    "from IPython.display import display\n",
    "\n",
    "def listToDict(dataList):\n",
    "    return {dataList[i]: i for i in range(len(dataList))}\n",
    "\n",
    "# 多選清單：水果\n",
    "fruit_options = [\"蘋果\", \"香蕉\", \"橘子\", \"西瓜\"]\n",
    "fruit_multiselect = widgets.SelectMultiple(options = fruit_options, description='水果：', value = [])\n",
    "\n",
    "def on_fruit_change(change):\n",
    "    if change['name'] == 'value':\n",
    "        print(\"你選擇的水果是：\", list(change['new']))\n",
    "\n",
    "display(fruit_multiselect)\n",
    "fruit_multiselect.observe(on_fruit_change, names='value')"
   ]
  },
  {
   "cell_type": "code",
   "execution_count": null,
   "metadata": {},
   "outputs": [
    {
     "data": {
      "application/vnd.jupyter.widget-view+json": {
       "model_id": "24ec2271d51f4f2c9a1fe0e130909e95",
       "version_major": 2,
       "version_minor": 0
      },
      "text/plain": [
       "RadioButtons(description='季節：', options=('春季', '夏季', '秋季', '冬季'), value='春季')"
      ]
     },
     "metadata": {},
     "output_type": "display_data"
    },
    {
     "name": "stdout",
     "output_type": "stream",
     "text": [
      "你選擇的季節是： 3 冬季\n",
      "你選擇的季節是： 0 春季\n",
      "你選擇的季節是： 2 秋季\n",
      "你選擇的季節是： 1 夏季\n"
     ]
    }
   ],
   "source": [
    "# 單選按鈕：季節\n",
    "seasons = [\"春季\", \"夏季\", \"秋季\", \"冬季\"]\n",
    "season_dict = listToDict(seasons)\n",
    "season_radio = widgets.RadioButtons(options = seasons, description='季節：')\n",
    "\n",
    "def on_season_change(change):\n",
    "    if change['name'] == 'value':\n",
    "        selected = change['new']\n",
    "        print(\"你選擇的季節是：\", season_dict[selected], selected)\n",
    "\n",
    "display(season_radio)\n",
    "season_radio.observe(on_season_change, names='value')"
   ]
  },
  {
   "cell_type": "code",
   "execution_count": 3,
   "metadata": {},
   "outputs": [
    {
     "data": {
      "application/vnd.jupyter.widget-view+json": {
       "model_id": "b11b0f08c1134eea9418e7cde6677485",
       "version_major": 2,
       "version_minor": 0
      },
      "text/plain": [
       "Checkbox(value=False, description='是否同意條款')"
      ]
     },
     "metadata": {},
     "output_type": "display_data"
    },
    {
     "name": "stdout",
     "output_type": "stream",
     "text": [
      "你同意條款\n",
      "你不同意條款\n",
      "你同意條款\n",
      "你不同意條款\n",
      "你同意條款\n"
     ]
    }
   ],
   "source": [
    "# 核取方塊：同意條款\n",
    "agree_checkbox = widgets.Checkbox(value = False, description='是否同意條款')\n",
    "\n",
    "def on_checkbox_change(change):\n",
    "    if change['name'] == 'value':\n",
    "        print(\"你\" + (\"同意\" if change['new'] else \"不同意\") + \"條款\")\n",
    "\n",
    "display(agree_checkbox)\n",
    "agree_checkbox.observe(on_checkbox_change, names='value')"
   ]
  },
  {
   "cell_type": "code",
   "execution_count": null,
   "metadata": {},
   "outputs": [
    {
     "data": {
      "application/vnd.jupyter.widget-view+json": {
       "model_id": "763f15804bf44b928bfad763c1dc62df",
       "version_major": 2,
       "version_minor": 0
      },
      "text/plain": [
       "IntRangeSlider(value=(3, 6), description='範圍：', max=10, min=1)"
      ]
     },
     "metadata": {},
     "output_type": "display_data"
    },
    {
     "name": "stdout",
     "output_type": "stream",
     "text": [
      "你選擇的範圍是： (4, 6)\n",
      "你選擇的範圍是： (5, 6)\n",
      "你選擇的範圍是： (4, 6)\n",
      "你選擇的範圍是： (3, 6)\n",
      "你選擇的範圍是： (2, 6)\n",
      "你選擇的範圍是： (1, 6)\n",
      "你選擇的範圍是： (1, 7)\n",
      "你選擇的範圍是： (1, 8)\n",
      "你選擇的範圍是： (1, 9)\n",
      "你選擇的範圍是： (1, 10)\n",
      "你選擇的範圍是： (1, 9)\n",
      "你選擇的範圍是： (1, 8)\n",
      "你選擇的範圍是： (1, 7)\n",
      "你選擇的範圍是： (1, 6)\n",
      "你選擇的範圍是： (2, 6)\n",
      "你選擇的範圍是： (2, 7)\n",
      "你選擇的範圍是： (2, 8)\n",
      "你選擇的範圍是： (2, 9)\n",
      "你選擇的範圍是： (2, 8)\n",
      "你選擇的範圍是： (2, 7)\n",
      "你選擇的範圍是： (3, 7)\n",
      "你選擇的範圍是： (4, 7)\n",
      "你選擇的範圍是： (6, 7)\n",
      "你選擇的範圍是： (6, 8)\n",
      "你選擇的範圍是： (6, 9)\n",
      "你選擇的範圍是： (6, 10)\n",
      "你選擇的範圍是： (5, 10)\n",
      "你選擇的範圍是： (4, 10)\n",
      "你選擇的範圍是： (3, 10)\n",
      "你選擇的範圍是： (1, 10)\n"
     ]
    }
   ],
   "source": [
    "# 範圍選擇器：1~10\n",
    "range_slider = widgets.IntRangeSlider(value = [3, 6], min = 1, max = 10, step = 1, description='範圍：')\n",
    "\n",
    "def on_range_slider_change(change):\n",
    "    if change['name'] == 'value':\n",
    "        print(\"你選擇的範圍是：\", change['new'])\n",
    "\n",
    "display(range_slider)\n",
    "range_slider.observe(on_range_slider_change, names='value')"
   ]
  },
  {
   "cell_type": "code",
   "execution_count": 5,
   "metadata": {},
   "outputs": [
    {
     "data": {
      "application/vnd.jupyter.widget-view+json": {
       "model_id": "0f0da3bf4b3b4f62bc651d5b8706c9ad",
       "version_major": 2,
       "version_minor": 0
      },
      "text/plain": [
       "DatePicker(value=datetime.date(2025, 7, 11), description='選日期', step=1)"
      ]
     },
     "metadata": {},
     "output_type": "display_data"
    },
    {
     "name": "stdout",
     "output_type": "stream",
     "text": [
      "你選了： 2025-07-19\n",
      "你選了： 2025-12-31\n",
      "你選了： 2025-01-29\n",
      "你選了： 2024-12-25\n",
      "你選了： 2024-03-21\n"
     ]
    }
   ],
   "source": [
    "# 日期選擇器\n",
    "date_picker = widgets.DatePicker(description='選日期', value = datetime.today().date())\n",
    "\n",
    "def on_date_change(change):\n",
    "    if change['name'] == 'value':\n",
    "        print(\"你選了：\", change['new'])\n",
    "\n",
    "display(date_picker)\n",
    "date_picker.observe(on_date_change, names='value')"
   ]
  },
  {
   "cell_type": "code",
   "execution_count": null,
   "metadata": {},
   "outputs": [
    {
     "data": {
      "application/vnd.jupyter.widget-view+json": {
       "model_id": "bdd96ebe3f3f466da2ccf5f30cd9d4a2",
       "version_major": 2,
       "version_minor": 0
      },
      "text/plain": [
       "FloatRangeSlider(value=(25.567, 75.212), description='範圍：', step=0.01)"
      ]
     },
     "metadata": {},
     "output_type": "display_data"
    },
    {
     "name": "stdout",
     "output_type": "stream",
     "text": [
      "你選的範圍： (25.57, 75.21000000000001)\n",
      "你選的範圍： (25.57, 76.82000000000001)\n",
      "你選的範圍： (25.57, 80.05)\n",
      "你選的範圍： (25.57, 86.5)\n",
      "你選的範圍： (25.57, 89.73)\n",
      "你選的範圍： (25.57, 88.92)\n",
      "你選的範圍： (25.57, 81.66)\n",
      "你選的範圍： (25.57, 77.63)\n",
      "你選的範圍： (25.57, 64.73)\n",
      "你選的範圍： (25.57, 63.92)\n",
      "你選的範圍： (25.57, 63.11)\n",
      "你選的範圍： (25.57, 62.31)\n",
      "你選的範圍： (25.57, 61.5)\n",
      "你選的範圍： (26.38, 61.5)\n",
      "你選的範圍： (28.8, 61.5)\n",
      "你選的範圍： (41.7, 61.5)\n",
      "你選的範圍： (44.92, 61.5)\n",
      "你選的範圍： (52.18, 61.5)\n",
      "你選的範圍： (49.76, 61.5)\n",
      "你選的範圍： (40.09, 61.5)\n",
      "你選的範圍： (21.54, 61.5)\n",
      "你選的範圍： (19.12, 61.5)\n",
      "你選的範圍： (7.83, 61.5)\n",
      "你選的範圍： (7.02, 61.5)\n",
      "你選的範圍： (6.22, 61.5)\n",
      "你選的範圍： (5.41, 61.5)\n",
      "你選的範圍： (4.6000000000000005, 61.5)\n",
      "你選的範圍： (3.8, 61.5)\n",
      "你選的範圍： (2.99, 61.5)\n",
      "你選的範圍： (3.8, 61.5)\n",
      "你選的範圍： (6.22, 61.5)\n",
      "你選的範圍： (10.25, 61.5)\n",
      "你選的範圍： (27.99, 61.5)\n",
      "你選的範圍： (29.6, 61.5)\n",
      "你選的範圍： (32.02, 61.5)\n",
      "你選的範圍： (32.83, 61.5)\n",
      "你選的範圍： (35.25, 61.5)\n",
      "你選的範圍： (35.25, 64.73)\n",
      "你選的範圍： (35.25, 71.18)\n",
      "你選的範圍： (35.25, 84.89)\n"
     ]
    }
   ],
   "source": [
    "# 浮點範圍選擇器（基本）\n",
    "float_slider1 = widgets.FloatRangeSlider(value = [25.567, 75.212], min = 0.0, max = 100.0, step = 0.01, description='範圍：')\n",
    "\n",
    "def on_float_slider1_change(change):\n",
    "    if change['name'] == 'value':\n",
    "        print(\"你選的範圍：\", change['new'])\n",
    "\n",
    "display(float_slider1)\n",
    "float_slider1.observe(on_float_slider1_change, names='value')"
   ]
  },
  {
   "cell_type": "code",
   "execution_count": null,
   "metadata": {},
   "outputs": [
    {
     "data": {
      "application/vnd.jupyter.widget-view+json": {
       "model_id": "93f88e87d3714786a3ba1881eebe4a5e",
       "version_major": 2,
       "version_minor": 0
      },
      "text/plain": [
       "FloatRangeSlider(value=(25.567, 75.212), description='範圍：', readout_format='.4f', step=0.0001)"
      ]
     },
     "metadata": {},
     "output_type": "display_data"
    },
    {
     "name": "stdout",
     "output_type": "stream",
     "text": [
      "你選的範圍： (25.566999999999997, 75.212)\n",
      "你選的範圍： (26.433500000000002, 75.212)\n",
      "你選的範圍： (30.766000000000005, 75.212)\n",
      "你選的範圍： (42.8971, 75.212)\n",
      "你選的範圍： (53.295100000000005, 75.212)\n",
      "你選的範圍： (52.4286, 75.212)\n",
      "你選的範圍： (51.5621, 75.212)\n",
      "你選的範圍： (48.0961, 75.212)\n",
      "你選的範圍： (30.766000000000005, 75.212)\n",
      "你選的範圍： (29.033, 75.212)\n",
      "你選的範圍： (27.3, 75.212)\n",
      "你選的範圍： (24.7005, 75.212)\n",
      "你選的範圍： (22.101000000000003, 75.212)\n",
      "你選的範圍： (15.1689, 75.212)\n",
      "你選的範圍： (14.3024, 75.212)\n",
      "你選的範圍： (14.3024, 76.0785)\n",
      "你選的範圍： (14.3024, 78.678)\n",
      "你選的範圍： (14.3024, 79.5445)\n",
      "你選的範圍： (14.3024, 80.411)\n",
      "你選的範圍： (14.3024, 81.2775)\n",
      "你選的範圍： (14.3024, 82.14400000000002)\n",
      "你選的範圍： (14.3024, 83.01050000000001)\n",
      "你選的範圍： (14.3024, 80.411)\n",
      "你選的範圍： (14.3024, 77.81150000000001)\n",
      "你選的範圍： (14.3024, 67.4135)\n",
      "你選的範圍： (14.3024, 48.3504)\n",
      "你選的範圍： (14.3024, 50.083400000000005)\n",
      "你選的範圍： (14.3024, 51.8164)\n",
      "你選的範圍： (14.3024, 70.87950000000001)\n",
      "你選的範圍： (14.3024, 78.678)\n"
     ]
    }
   ],
   "source": [
    "# 浮點範圍選擇器（進階小數點）\n",
    "float_slider2 = widgets.FloatRangeSlider(value = [25.5670, 75.2120], min = 0.0, max = 100.0, step = 0.0001, description='範圍：', readout_format='.4f')\n",
    "\n",
    "def on_float_slider2_change(change):\n",
    "    if change['name'] == 'value':\n",
    "        print(\"你選的範圍：\", change['new'])\n",
    "\n",
    "display(float_slider2)\n",
    "float_slider2.observe(on_float_slider2_change, names='value')"
   ]
  }
 ],
 "metadata": {
  "kernelspec": {
   "display_name": "base",
   "language": "python",
   "name": "python3"
  },
  "language_info": {
   "codemirror_mode": {
    "name": "ipython",
    "version": 3
   },
   "file_extension": ".py",
   "mimetype": "text/x-python",
   "name": "python",
   "nbconvert_exporter": "python",
   "pygments_lexer": "ipython3",
   "version": "3.12.7"
  }
 },
 "nbformat": 4,
 "nbformat_minor": 2
}
