{
 "cells": [
  {
   "cell_type": "code",
   "execution_count": null,
   "metadata": {},
   "outputs": [
    {
     "data": {
      "application/vnd.jupyter.widget-view+json": {
       "model_id": "cdb2ff012fa645c4a680ec9a4f2b7fcb",
       "version_major": 2,
       "version_minor": 0
      },
      "text/plain": [
       "SelectMultiple(description='水果：', options=('蘋果', '香蕉', '橘子', '西瓜'), value=())"
      ]
     },
     "metadata": {},
     "output_type": "display_data"
    },
    {
     "name": "stdout",
     "output_type": "stream",
     "text": [
      "你選擇的水果是： ['西瓜']\n",
      "你選擇的水果是： ['蘋果']\n",
      "你選擇的水果是： ['香蕉']\n",
      "你選擇的水果是： ['橘子']\n"
     ]
    }
   ],
   "source": [
    "import pandas as pd\n",
    "from datetime import datetime\n",
    "import ipywidgets as widgets\n",
    "from IPython.display import display\n",
    "\n",
    "def listToDict(dataList):\n",
    "    return {dataList[i]: i for i in range(len(dataList))}\n",
    "\n",
    "# 多選清單：水果\n",
    "fruit_options = [\"蘋果\", \"香蕉\", \"橘子\", \"西瓜\"]\n",
    "fruit_multiselect = widgets.SelectMultiple(options = fruit_options, description='水果：', value = [])\n",
    "\n",
    "def on_fruit_change(change):\n",
    "    if change['name'] == 'value':\n",
    "        print(\"你選擇的水果是：\", list(change['new']))\n",
    "\n",
    "display(fruit_multiselect)\n",
    "fruit_multiselect.observe(on_fruit_change, names='value')"
   ]
  },
  {
   "cell_type": "code",
   "execution_count": null,
   "metadata": {},
   "outputs": [
    {
     "data": {
      "application/vnd.jupyter.widget-view+json": {
       "model_id": "379df734924e474fa797f75ebfb8b9a5",
       "version_major": 2,
       "version_minor": 0
      },
      "text/plain": [
       "RadioButtons(description='季節：', options=('春季', '夏季', '秋季', '冬季'), value='春季')"
      ]
     },
     "metadata": {},
     "output_type": "display_data"
    },
    {
     "name": "stdout",
     "output_type": "stream",
     "text": [
      "你選擇的季節是： 3 冬季\n",
      "你選擇的季節是： 0 春季\n",
      "你選擇的季節是： 2 秋季\n",
      "你選擇的季節是： 1 夏季\n"
     ]
    }
   ],
   "source": [
    "# 單選按鈕：季節\n",
    "seasons = [\"春季\", \"夏季\", \"秋季\", \"冬季\"]\n",
    "season_dict = listToDict(seasons)\n",
    "season_radio = widgets.RadioButtons(options = seasons, description='季節：')\n",
    "\n",
    "def on_season_change(change):\n",
    "    if change['name'] == 'value':\n",
    "        selected = change['new']\n",
    "        print(\"你選擇的季節是：\", season_dict[selected], selected)\n",
    "\n",
    "display(season_radio)\n",
    "season_radio.observe(on_season_change, names='value')"
   ]
  },
  {
   "cell_type": "code",
   "execution_count": 3,
   "metadata": {},
   "outputs": [
    {
     "data": {
      "application/vnd.jupyter.widget-view+json": {
       "model_id": "7575892abb0f41f1aec8f3474807cc8a",
       "version_major": 2,
       "version_minor": 0
      },
      "text/plain": [
       "Checkbox(value=False, description='是否同意條款')"
      ]
     },
     "metadata": {},
     "output_type": "display_data"
    },
    {
     "name": "stdout",
     "output_type": "stream",
     "text": [
      "你同意條款\n",
      "你不同意條款\n",
      "你同意條款\n",
      "你不同意條款\n",
      "你同意條款\n"
     ]
    }
   ],
   "source": [
    "# 核取方塊：同意條款\n",
    "agree_checkbox = widgets.Checkbox(value = False, description='是否同意條款')\n",
    "\n",
    "def on_checkbox_change(change):\n",
    "    if change['name'] == 'value':\n",
    "        print(\"你\" + (\"同意\" if change['new'] else \"不同意\") + \"條款\")\n",
    "\n",
    "display(agree_checkbox)\n",
    "agree_checkbox.observe(on_checkbox_change, names='value')"
   ]
  },
  {
   "cell_type": "code",
   "execution_count": null,
   "metadata": {},
   "outputs": [
    {
     "data": {
      "application/vnd.jupyter.widget-view+json": {
       "model_id": "f32bd4ea65be45cbad6e5f55e6d86496",
       "version_major": 2,
       "version_minor": 0
      },
      "text/plain": [
       "IntRangeSlider(value=(3, 6), description='範圍：', max=10, min=1)"
      ]
     },
     "metadata": {},
     "output_type": "display_data"
    },
    {
     "name": "stdout",
     "output_type": "stream",
     "text": [
      "你選擇的範圍是： (2, 6)\n",
      "你選擇的範圍是： (3, 6)\n",
      "你選擇的範圍是： (4, 6)\n",
      "你選擇的範圍是： (5, 6)\n",
      "你選擇的範圍是： (6, 6)\n",
      "你選擇的範圍是： (5, 6)\n",
      "你選擇的範圍是： (4, 6)\n",
      "你選擇的範圍是： (3, 6)\n",
      "你選擇的範圍是： (3, 7)\n",
      "你選擇的範圍是： (3, 8)\n",
      "你選擇的範圍是： (3, 7)\n",
      "你選擇的範圍是： (3, 6)\n",
      "你選擇的範圍是： (3, 7)\n",
      "你選擇的範圍是： (3, 8)\n",
      "你選擇的範圍是： (3, 9)\n",
      "你選擇的範圍是： (3, 8)\n",
      "你選擇的範圍是： (3, 9)\n",
      "你選擇的範圍是： (3, 10)\n",
      "你選擇的範圍是： (4, 10)\n",
      "你選擇的範圍是： (5, 10)\n",
      "你選擇的範圍是： (4, 10)\n",
      "你選擇的範圍是： (3, 10)\n",
      "你選擇的範圍是： (2, 10)\n",
      "你選擇的範圍是： (1, 10)\n",
      "你選擇的範圍是： (2, 10)\n",
      "你選擇的範圍是： (3, 10)\n",
      "你選擇的範圍是： (4, 10)\n",
      "你選擇的範圍是： (5, 10)\n",
      "你選擇的範圍是： (5, 9)\n",
      "你選擇的範圍是： (5, 8)\n",
      "你選擇的範圍是： (5, 7)\n",
      "你選擇的範圍是： (5, 6)\n"
     ]
    }
   ],
   "source": [
    "# 範圍選擇器：1~10\n",
    "range_slider = widgets.IntRangeSlider(value = [3, 6], min = 1, max = 10, step = 1, description='範圍：')\n",
    "\n",
    "def on_range_slider_change(change):\n",
    "    if change['name'] == 'value':\n",
    "        print(\"你選擇的範圍是：\", change['new'])\n",
    "\n",
    "display(range_slider)\n",
    "range_slider.observe(on_range_slider_change, names='value')"
   ]
  },
  {
   "cell_type": "code",
   "execution_count": 5,
   "metadata": {},
   "outputs": [
    {
     "data": {
      "application/vnd.jupyter.widget-view+json": {
       "model_id": "a19ef2773bd842b8b8533817eb5dbd05",
       "version_major": 2,
       "version_minor": 0
      },
      "text/plain": [
       "DatePicker(value=datetime.date(2025, 7, 11), description='選日期', step=1)"
      ]
     },
     "metadata": {},
     "output_type": "display_data"
    },
    {
     "name": "stdout",
     "output_type": "stream",
     "text": [
      "你選了： 2025-07-24\n",
      "你選了： 2025-01-29\n",
      "你選了： 2024-03-06\n",
      "你選了： 2024-10-10\n",
      "你選了： 2024-12-25\n"
     ]
    }
   ],
   "source": [
    "# 日期選擇器\n",
    "date_picker = widgets.DatePicker(description='選日期', value = datetime.today().date())\n",
    "\n",
    "def on_date_change(change):\n",
    "    if change['name'] == 'value':\n",
    "        print(\"你選了：\", change['new'])\n",
    "\n",
    "display(date_picker)\n",
    "date_picker.observe(on_date_change, names='value')"
   ]
  },
  {
   "cell_type": "code",
   "execution_count": null,
   "metadata": {},
   "outputs": [
    {
     "data": {
      "application/vnd.jupyter.widget-view+json": {
       "model_id": "b22a89ce014d4632819ce1f28f14f60b",
       "version_major": 2,
       "version_minor": 0
      },
      "text/plain": [
       "FloatRangeSlider(value=(25.567, 75.212), description='範圍1：', step=0.01)"
      ]
     },
     "metadata": {},
     "output_type": "display_data"
    },
    {
     "name": "stdout",
     "output_type": "stream",
     "text": [
      "你選的範圍： (25.57, 75.21000000000001)\n",
      "你選的範圍： (25.57, 76.82000000000001)\n",
      "你選的範圍： (25.57, 96.18)\n",
      "你選的範圍： (25.57, 94.56)\n",
      "你選的範圍： (25.57, 90.53)\n",
      "你選的範圍： (25.57, 78.44)\n",
      "你選的範圍： (24.76, 78.44)\n",
      "你選的範圍： (16.7, 78.44)\n",
      "你選的範圍： (10.25, 78.44)\n",
      "你選的範圍： (7.02, 78.44)\n",
      "你選的範圍： (7.83, 78.44)\n",
      "你選的範圍： (9.44, 78.44)\n",
      "你選的範圍： (21.54, 78.44)\n",
      "你選的範圍： (32.02, 78.44)\n",
      "你選的範圍： (48.15, 78.44)\n",
      "你選的範圍： (48.15, 76.83)\n",
      "你選的範圍： (48.15, 58.28)\n",
      "你選的範圍： (48.15, 53.44)\n",
      "你選的範圍： (48.15, 52.63)\n",
      "你選的範圍： (45.73, 52.63)\n",
      "你選的範圍： (33.63, 52.63)\n",
      "你選的範圍： (27.18, 52.63)\n",
      "你選的範圍： (23.96, 52.63)\n",
      "你選的範圍： (17.5, 52.63)\n",
      "你選的範圍： (12.67, 52.63)\n",
      "你選的範圍： (52.63, 52.63)\n",
      "你選的範圍： (48.15, 52.63)\n",
      "你選的範圍： (36.050000000000004, 52.63)\n",
      "你選的範圍： (26.38, 52.63)\n",
      "你選的範圍： (26.38, 53.44)\n",
      "你選的範圍： (26.38, 71.98)\n",
      "你選的範圍： (26.38, 77.63)\n",
      "你選的範圍： (26.38, 83.28)\n",
      "你選的範圍： (26.38, 84.08)\n",
      "你選的範圍： (26.38, 84.89)\n",
      "你選的範圍： (26.38, 89.73)\n",
      "你選的範圍： (28.8, 89.73)\n",
      "你選的範圍： (32.83, 89.73)\n",
      "你選的範圍： (41.7, 89.73)\n",
      "你選的範圍： (43.32, 89.73)\n"
     ]
    }
   ],
   "source": [
    "# 浮點範圍選擇器（基本）\n",
    "float_slider1 = widgets.FloatRangeSlider(value = [25.567, 75.212], min = 0.0, max = 100.0, step = 0.01, description='範圍1：')\n",
    "\n",
    "def on_float_slider1_change(change):\n",
    "    if change['name'] == 'value':\n",
    "        print(\"你選的範圍：\", change['new'])\n",
    "\n",
    "display(float_slider1)\n",
    "float_slider1.observe(on_float_slider1_change, names='value')"
   ]
  },
  {
   "cell_type": "code",
   "execution_count": 7,
   "metadata": {},
   "outputs": [
    {
     "data": {
      "application/vnd.jupyter.widget-view+json": {
       "model_id": "966ff6f51f834ddc9ae728a32a9e54d5",
       "version_major": 2,
       "version_minor": 0
      },
      "text/plain": [
       "FloatRangeSlider(value=(25.567, 75.212), description='範圍2：', readout_format='.4f', step=0.0001)"
      ]
     },
     "metadata": {},
     "output_type": "display_data"
    },
    {
     "name": "stdout",
     "output_type": "stream",
     "text": [
      "你選的範圍： (25.566999999999997, 75.212)\n",
      "你選的範圍： (23.834, 75.212)\n",
      "你選的範圍： (17.7685, 75.212)\n",
      "你選的範圍： (16.902, 75.212)\n",
      "你選的範圍： (18.635, 75.212)\n",
      "你選的範圍： (36.8316, 75.212)\n",
      "你選的範圍： (36.8316, 76.0785)\n",
      "你選的範圍： (36.8316, 88.20960000000001)\n",
      "你選的範圍： (36.8316, 92.5421)\n",
      "你選的範圍： (36.8316, 91.67559999999999)\n",
      "你選的範圍： (36.8316, 83.01050000000001)\n",
      "你選的範圍： (36.8316, 82.14400000000002)\n",
      "你選的範圍： (35.9651, 82.14400000000002)\n",
      "你選的範圍： (17.7685, 82.14400000000002)\n",
      "你選的範圍： (16.035500000000003, 82.14400000000002)\n",
      "你選的範圍： (16.902, 82.14400000000002)\n",
      "你選的範圍： (21.234500000000004, 82.14400000000002)\n",
      "你選的範圍： (38.5646, 82.14400000000002)\n",
      "你選的範圍： (48.962700000000005, 82.14400000000002)\n",
      "你選的範圍： (48.962700000000005, 80.411)\n",
      "你選的範圍： (48.962700000000005, 70.8794)\n",
      "你選的範圍： (48.962700000000005, 56.148900000000005)\n",
      "你選的範圍： (46.3632, 56.148900000000005)\n",
      "你選的範圍： (35.098600000000005, 56.148900000000005)\n",
      "你選的範圍： (29.899600000000007, 56.148900000000005)\n",
      "你選的範圍： (29.0331, 56.148900000000005)\n",
      "你選的範圍： (26.433600000000002, 56.148900000000005)\n",
      "你選的範圍： (27.3001, 56.148900000000005)\n",
      "你選的範圍： (38.5646, 56.148900000000005)\n",
      "你選的範圍： (56.148900000000005, 56.148900000000005)\n",
      "你選的範圍： (55.8947, 56.148900000000005)\n",
      "你選的範圍： (49.8292, 56.148900000000005)\n",
      "你選的範圍： (44.6302, 56.148900000000005)\n",
      "你選的範圍： (41.1642, 56.148900000000005)\n",
      "你選的範圍： (55.8947, 56.148900000000005)\n",
      "你選的範圍： (55.028200000000005, 56.148900000000005)\n",
      "你選的範圍： (43.763600000000004, 56.148900000000005)\n",
      "你選的範圍： (42.8971, 56.148900000000005)\n",
      "你選的範圍： (42.8971, 57.0154)\n",
      "你選的範圍： (42.8971, 66.547)\n",
      "你選的範圍： (42.8971, 68.28)\n"
     ]
    }
   ],
   "source": [
    "# 浮點範圍選擇器（進階小數點）\n",
    "float_slider2 = widgets.FloatRangeSlider(value = [25.5670, 75.2120], min = 0.0, max = 100.0, step = 0.0001, description='範圍2：', readout_format='.4f')\n",
    "\n",
    "def on_float_slider2_change(change):\n",
    "    if change['name'] == 'value':\n",
    "        print(\"你選的範圍：\", change['new'])\n",
    "\n",
    "display(float_slider2)\n",
    "float_slider2.observe(on_float_slider2_change, names='value')"
   ]
  }
 ],
 "metadata": {
  "kernelspec": {
   "display_name": "base",
   "language": "python",
   "name": "python3"
  },
  "language_info": {
   "codemirror_mode": {
    "name": "ipython",
    "version": 3
   },
   "file_extension": ".py",
   "mimetype": "text/x-python",
   "name": "python",
   "nbconvert_exporter": "python",
   "pygments_lexer": "ipython3",
   "version": "3.12.7"
  }
 },
 "nbformat": 4,
 "nbformat_minor": 2
}
