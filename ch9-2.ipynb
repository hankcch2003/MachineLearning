{
 "cells": [
  {
   "cell_type": "code",
   "execution_count": null,
   "metadata": {},
   "outputs": [
    {
     "data": {
      "application/vnd.jupyter.widget-view+json": {
       "model_id": "5bdc7fe1c6a040c3b1056eb4eb88a65c",
       "version_major": 2,
       "version_minor": 0
      },
      "text/plain": [
       "FileUpload(value=({'name': 'Advertising.csv', 'type': 'text/csv', 'size': 4213, 'content': <memory at 0x000002…"
      ]
     },
     "metadata": {},
     "output_type": "display_data"
    },
    {
     "data": {
      "application/vnd.jupyter.widget-view+json": {
       "model_id": "35cbc7242d5343119c7a06a6b95320e9",
       "version_major": 2,
       "version_minor": 0
      },
      "text/plain": [
       "Output()"
      ]
     },
     "metadata": {},
     "output_type": "display_data"
    }
   ],
   "source": [
    "import pandas as pd\n",
    "import ipywidgets as widgets\n",
    "from IPython.display import display, clear_output\n",
    "import io\n",
    "import matplotlib.pyplot as plt\n",
    "\n",
    "# 檔案上傳元件\n",
    "upload = widgets.FileUpload(accept='.csv', multiple = False)\n",
    "display(widgets.HTML(value=\"<h3>CSV Reading</h3>\"))\n",
    "display(widgets.HTML(value=\"<b>上傳CSV檔案：</b>\"))\n",
    "display(upload)\n",
    "\n",
    "output = widgets.Output()\n",
    "display(output)\n",
    "\n",
    "def handle_upload(change):\n",
    "    output.clear_output()\n",
    "    if upload.value:\n",
    "        file_info = upload.value[0]\n",
    "        content = file_info['content']\n",
    "        filename = file_info['name']\n",
    "\n",
    "        with output:\n",
    "            # 讀取 CSV 檔案為 DataFrame\n",
    "            df = pd.read_csv(io.BytesIO(content))\n",
    "            display(widgets.HTML(value=\"<h4>原始數據：</h4>\"))\n",
    "            display(df)\n",
    "\n",
    "            display(widgets.HTML(value=\"<h4>數據描述：</h4>\"))\n",
    "            display(df.describe())\n",
    "\n",
    "            # 數據視覺化\n",
    "            display(widgets.HTML(value=\"<h4>數據視覺化：</h4>\"))\n",
    "            try:\n",
    "                df.plot(figsize = (10, 4), title=\"折線圖\")\n",
    "                plt.grid(True)\n",
    "                plt.show()\n",
    "            except Exception as e:\n",
    "                print(\"無法繪製圖表：\", e)\n",
    "\n",
    "            # 單選選擇顯示欄位\n",
    "            select_column = widgets.Dropdown(options = df.columns, description=\"顯示欄位：\")\n",
    "\n",
    "            def show_single_column(change):\n",
    "                clear_output(wait = True)\n",
    "                display(upload)\n",
    "                display(output)\n",
    "                with output:\n",
    "                    print(\"你選擇的欄位：\", change.new)\n",
    "                    display(df[[change.new]])\n",
    "\n",
    "            display(select_column)\n",
    "            select_column.observe(show_single_column, names='value')\n",
    "\n",
    "            # 多選選擇顯示欄位\n",
    "            multi_columns = widgets.SelectMultiple(options = df.columns, description=\"多選欄位：\")\n",
    "\n",
    "            def show_multiple_columns(change):\n",
    "                clear_output(wait = True)\n",
    "                display(upload)\n",
    "                display(output)\n",
    "                with output:\n",
    "                    if change.new:\n",
    "                        print(\"你選擇的多欄位：\", change.new)\n",
    "                        display(df[list(change.new)])\n",
    "                    else:\n",
    "                        print(\"請至少選擇一列\")\n",
    "\n",
    "            display(multi_columns)\n",
    "            multi_columns.observe(show_multiple_columns, names='value')\n",
    "upload.observe(handle_upload, names='value')"
   ]
  }
 ],
 "metadata": {
  "kernelspec": {
   "display_name": "base",
   "language": "python",
   "name": "python3"
  },
  "language_info": {
   "codemirror_mode": {
    "name": "ipython",
    "version": 3
   },
   "file_extension": ".py",
   "mimetype": "text/x-python",
   "name": "python",
   "nbconvert_exporter": "python",
   "pygments_lexer": "ipython3",
   "version": "3.12.7"
  }
 },
 "nbformat": 4,
 "nbformat_minor": 2
}
